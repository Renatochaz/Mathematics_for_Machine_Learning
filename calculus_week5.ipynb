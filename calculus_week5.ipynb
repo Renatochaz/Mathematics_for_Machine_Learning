{
 "cells": [
  {
   "cell_type": "markdown",
   "metadata": {},
   "source": [
    "# Newton-Raphson in one dimension\n",
    "\n",
    "Imagine we have the following function:\n",
    "\n",
    "$y = x^3-2x+2$ and we want to find the solution to where our function is equal to 0. Let's look at the graph:"
   ]
  },
  {
   "cell_type": "code",
   "execution_count": 38,
   "metadata": {},
   "outputs": [],
   "source": [
    "# Import libraries \n",
    "import matplotlib.pyplot as plt \n",
    "import numpy as np \n",
    "from matplotlib.patches import FancyArrowPatch"
   ]
  },
  {
   "cell_type": "code",
   "execution_count": 37,
   "metadata": {},
   "outputs": [
    {
     "data": {
      "text/plain": [
       "<matplotlib.patches.FancyArrowPatch at 0x2485d7b4108>"
      ]
     },
     "execution_count": 37,
     "metadata": {},
     "output_type": "execute_result"
    },
    {
     "data": {
      "image/png": "[encoded data removed]",
      "text/plain": [
       "<Figure size 640x480 with 1 Axes>"
      ]
     },
     "metadata": {},
     "output_type": "display_data"
    }
   ],
   "source": [
    "# describe function\n",
    "x = np.linspace(-2.5, 2.5, 50)\n",
    "y = (x**3) - (2*x) + 2\n",
    "# Plot \n",
    "plt.style.use('default')\n",
    "fig = plt.figure()\n",
    "ax = fig.add_subplot(111)\n",
    "plt.plot(x, y, 'black', label ='somefunction of x')\n",
    "ax.grid()\n",
    "a = ax.get_xgridlines()\n",
    "b = a[3]\n",
    "b.set_color('red')\n",
    "b.set_linewidth(1)\n",
    "c = ax.get_ygridlines()\n",
    "d = c[2]\n",
    "d.set_color('red')\n",
    "d.set_linewidth(1)\n",
    "arrow = FancyArrowPatch((-2, -2),(-1.769,0.4),    \n",
    "                        arrowstyle='simple', color='b', mutation_scale=2)\n",
    "ax.add_patch(arrow)"
   ]
  },
  {
   "cell_type": "markdown",
   "metadata": {},
   "source": [
    "We know from looking at the graph that the point which is equal to 0 is close -2, but to find it exactly and without a graph support we use the newton-raphson method.\n",
    "\n",
    "Lets find the gradient (the blue line, which passes through the root)\n",
    "\n",
    "$\\frac{dy}{dx} = 3x^2 -2$\n",
    "\n",
    "and evaluate our function with our first guess of -2:\n",
    "\n",
    "$y = x^3-2x+2$ => $y = -2^3 -2.-2 + 2 = 2$ \n",
    "\n",
    "so with x = -2 our y = 2 and our gradient is 10\n",
    "\n",
    "This is the first iteration of the method, which has the following form:\n",
    "\n",
    "$x_{i+1} = x_i - \\frac{f(x_i)}{f'(x_i)}$\n",
    "\n",
    "and with this we find our new value of the guess (xi) equals to -1.8, and after three iterations we have xi = -1.769 which is really really close to the real solution!"
   ]
  },
  {
   "cell_type": "markdown",
   "metadata": {},
   "source": [
    "But we can have some problems with this method, for instance if we have a bad first guess that is very close to our point of maxima or minima, our gradient would be really small and the formula would give us some crazy numbers!"
   ]
  },
  {
   "cell_type": "markdown",
   "metadata": {},
   "source": [
    "# Gradient descent\n",
    "\n",
    "First we need our grad vector: $D_f$, which is just a vector containing the partial derivatives of a given function:\n",
    "\n",
    "Given function f(x,y), our $D_f$ = $\\begin{bmatrix}\\frac{\\partial f}{\\partial x} // \\frac{\\partial f}{\\partial y}\\end{bmatrix}$ (note that this is just our jacobian transposed)\n",
    "\n",
    "We then evaluate this grad vector with some arbitrary points (a,b) and multiply by a unit vector r and we will move in the steepest descent.\n",
    "\n",
    "And ir order to move at the maximum value it can possible have we need to dot our grad vector to its normalized form:\n",
    "$D_f . \\frac{D_f}{||D_f||} = ||D_f||$ and this is the size of the steepest gradient we can have, the size of our grad vector.\n",
    "Remember that the grad vector points up the steepest descent (up for positives, and down for negatives)"
   ]
  },
  {
   "cell_type": "markdown",
   "metadata": {},
   "source": [
    "And with this our gradient descent method is to keep doing iterations with the grad vector and keep going for the steepest descent until we reach our maxima/minima point:\n",
    "\n",
    "$S_{n+1} = S_n - yD_f(s_n)$\n",
    "\n",
    "We evaluate at point S_n and do a \"step\" with out grad vector, which is some amount (y) times $D_f(s_n)$(our grad evaluated at S_n)."
   ]
  },
  {
   "cell_type": "markdown",
   "metadata": {},
   "source": [
    "One way to define this \"step\" is to use the hessian, so instead of using y we use $-H^{-1}J$ instead of $yJ$\n",
    "\n",
    "We can also use a hybrid method, which tries the hessian, and if the step is too large and start pointing backward, we change to the steepest descent with an arbitrary y"
   ]
  },
  {
   "cell_type": "markdown",
   "metadata": {},
   "source": [
    "# Constrained optimisation\n",
    "\n",
    "Imagine we now want the max/minima of a given function and this function has a restriction. We can simple use a method named lagrange multiplier to find the solutions!\n",
    "\n",
    "Since the gradient is perpendicular to the contours, the gradient of the function and the gradient of the constraint will also be parallel.\n",
    "\n",
    "To ilustrate the method, see the following exemple:\n",
    "\n",
    "Maximize $f(x,y) = x^2y$, and this function is contrained to: $g(x,y) = x^2 + y^2 = a^2$\n",
    "\n",
    "If we find the gradient of both function, and multiply the gradient of the constrained function by the lagrange multiplier($\\lambda$, we can find the solution, like this:\n",
    "\n",
    "$D_f = \\lambda D_g$"
   ]
  },
  {
   "cell_type": "markdown",
   "metadata": {},
   "source": [
    "So let's find our solution!\n",
    "\n",
    "We know that $D_f = 2xy, x^2$ and $G_f = 2x, 2y$, so we have the following system:\n",
    "\n",
    "$2xy = \\lambda 2x$ (1)\n",
    "\n",
    "$x^2 = \\lambda 2y$ (2)\n",
    "\n",
    "Solving:\n",
    "\n",
    "> (1) $\\lambda = y$\n",
    "\n",
    "> (2) $x = 2y^2 => x = +/- \\sqrt{2y}$\n",
    "\n",
    "> (3) $x^2 + y^2 = a^2 = 3y^2 => y = +/- \\frac{a}{\\sqrt{3}}$ \n",
    "\n"
   ]
  },
  {
   "cell_type": "markdown",
   "metadata": {},
   "source": [
    "Solutions:\n",
    "\n",
    "$\\frac{a}{\\sqrt{3}} (\\sqrt{2}, 1)$ (using y = 1)\n",
    "\n",
    "$\\frac{a}{\\sqrt{3}} (\\sqrt{2}, -1)$ (using y = -1)\n",
    "\n",
    "$\\frac{a}{\\sqrt{3}} (-\\sqrt{2}, 1)$ (using y = 1) (since our solution has a +/- sign)\n",
    "\n",
    "$\\frac{a}{\\sqrt{3}} (-\\sqrt{2}, -1)$ (using y = -1) (since our solution has a +/- sign)\n",
    "\n",
    "*note that we can use newton-raphson to find the roots of the problem reconstructed with the lagrange multiplier to find the solution"
   ]
  },
  {
   "cell_type": "code",
   "execution_count": null,
   "metadata": {},
   "outputs": [],
   "source": []
  }
 ],
 "metadata": {
  "kernelspec": {
   "display_name": "Python 3",
   "language": "python",
   "name": "python3"
  },
  "language_info": {
   "codemirror_mode": {
    "name": "ipython",
    "version": 3
   },
   "file_extension": ".py",
   "mimetype": "text/x-python",
   "name": "python",
   "nbconvert_exporter": "python",
   "pygments_lexer": "ipython3",
   "version": "3.7.4"
  }
 },
 "nbformat": 4,
 "nbformat_minor": 4
}
