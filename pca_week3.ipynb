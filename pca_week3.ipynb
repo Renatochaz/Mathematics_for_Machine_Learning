{
 "cells": [
  {
   "cell_type": "markdown",
   "metadata": {},
   "source": [
    "# Projections on 1D subspace\n",
    "\n",
    "If i have an vector (U) which is a straigh line in a 2D plane, and a point X somewhere in this 2D plane, the vector in U that is closest to X can be found out in a orthogonal project of X on to U.\n",
    "\n",
    "Thats means that the difference vector X and its projection is orthogonal to U.\n",
    "\n",
    "We are searching this projection, and we will call it $\\pi_u(x)$. This projection has two important properties:\n",
    "\n",
    "1 - $\\pi_u(x) \\in U$ => $ \\exists \\lambda \\in \\mathbf{R}: \\pi_u(x) = \\lambda b$\n",
    "\n",
    "Where b is the basis vector that spans U, and $\\lambda$ is the coordinate of the projection with respect to the basis b of the subspace U.\n",
    "\n",
    "2 - $<b,\\pi_u(x) - x> = 0$\n",
    "\n",
    "Note that $\\pi_u(x)$ is our projection of x in to U. If the difference of this projection in respect to x is orthogonal to U, it is also orthogonal to b (that spans U), and therefore the inner product between b and this projection is 0. "
   ]
  },
  {
   "cell_type": "markdown",
   "metadata": {},
   "source": [
    "Now let's work this properties out to find a solution:\n",
    "\n",
    "$<b,\\pi_u(x) - x = 0$ \n",
    "\n",
    "$<b,\\pi_u(x) - <b,x> = 0$ (this is because the linearity of the inner product)\n",
    "\n",
    "$<b,\\lambda b> - <b,x> = 0$\n",
    "\n",
    "$\\lambda ||b||^2 - <b,x> = 0$\n",
    "\n",
    "$\\lambda = \\frac{<b,x>}{||b||^2}$\n",
    "\n",
    "$\\pi_u(x) = \\lambda b = \\frac{<b,x>}{||b||^2}b$ "
   ]
  },
  {
   "cell_type": "markdown",
   "metadata": {},
   "source": [
    "If we are using the dot product as the inner product:\n",
    "\n",
    "$\\frac{b^tx}{||b||^2}b = \\frac{bb^t}{||b||^2}x = \\pi_u(x)$ and with this $\\frac{bb^t}{||b||^2}$ is our projection matrix\n",
    "\n",
    "note that $||b||^2 = b^tb$ and we can express:\n",
    "\n",
    "$\\lambda = \\frac{b^tx}{b^tb}$ and $\\pi_u(x) = b\\frac{b^tx}{b^tb}$\n",
    "\n",
    "if ||b|| = 1, then: \n",
    "\n",
    "$\\lambda = b^tx$ and $\\pi_u(x) = bb^tx$\n",
    "\n"
   ]
  },
  {
   "cell_type": "markdown",
   "metadata": {},
   "source": [
    "Note that $\\pi_u(x)$ is still a vector in our RD, but we no longer require D coordinantes to represent it, only our lambda. "
   ]
  },
  {
   "cell_type": "markdown",
   "metadata": {},
   "source": [
    "# projections in to higher dimensional spaces\n",
    "\n",
    "$\\pi_u(x) = \\lambda_1b_1 + \\lambda_2b_2$ for 2d spaces, note that our projection is orthogonal to both basis vectors that spans our 2D dimension (U)\n",
    "\n",
    "and:\n",
    "\n",
    "$<x-\\pi_u(x),b_1> = 0$\n",
    "\n",
    "$<x-\\pi_u(x),b_2> = 0$\n",
    "\n",
    "Now let us generalize this result for higher dimensional spaces\n",
    "\n",
    "1 - $\\pi_u(x) = \\sum_{i=1}^M\\lambda_ib_i$\n",
    "\n",
    "2 - $<\\pi_u(x) - x, b_i> = 0, i=1,...,M$\n",
    "\n",
    "so now we have that\n",
    "\n",
    "$\\pi_u(x) = B\\lambda$, and with some algebric operations we get that:\n",
    "\n",
    "$\\lambda = (B^tB)^{-1}B^tx$\n",
    "\n",
    "and with the result $\\pi_u(x) = B\\lambda$ we have that:\n",
    "\n",
    "$ \\pi_u(x) = B(B^tB)^{-1}B^tx$ and with this our projection matrix is: $B(B^tB)^{-1}B^t$\n",
    "\n",
    "and if we are working with orthonormal basis: $ \\pi_u(x) = BB^tx$"
   ]
  }
 ],
 "metadata": {
  "kernelspec": {
   "display_name": "Python 3",
   "language": "python",
   "name": "python3"
  },
  "language_info": {
   "codemirror_mode": {
    "name": "ipython",
    "version": 3
   },
   "file_extension": ".py",
   "mimetype": "text/x-python",
   "name": "python",
   "nbconvert_exporter": "python",
   "pygments_lexer": "ipython3",
   "version": "3.7.4"
  }
 },
 "nbformat": 4,
 "nbformat_minor": 4
}
