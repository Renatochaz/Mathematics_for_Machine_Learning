{
 "cells": [
  {
   "cell_type": "markdown",
   "metadata": {},
   "source": [
    "# Principal Component Analysis (PCA)\r\n",
    "In this notebook, you shall implement PCA and then apply it (once again) to the MNIST digit dataset."
   ]
  },
  {
   "cell_type": "markdown",
   "metadata": {},
   "source": [
    "## Learning objective\r\n",
    "1. Write code that implements PCA.\r\n",
    "2. Write code that implements PCA for high-dimensional datasets"
   ]
  },
  {
   "cell_type": "markdown",
   "metadata": {},
   "source": [
    "Let's first import the packages we need for this week."
   ]
  },
  {
   "cell_type": "code",
   "execution_count": null,
   "metadata": {},
   "outputs": [],
   "source": [
    "# PACKAGE: DO NOT EDIT\r\n",
    "import numpy as np\r\n",
    "import scipy\r\n",
    "import scipy.stats"
   ]
  },
  {
   "cell_type": "code",
   "execution_count": null,
   "metadata": {},
   "outputs": [],
   "source": [
    "import matplotlib.pyplot as plt\r\n",
    "from ipywidgets import interact\r\n",
    "\r\n",
    "plt.style.use('fivethirtyeight')\r\n",
    "%matplotlib inline"
   ]
  },
  {
   "cell_type": "code",
   "execution_count": null,
   "metadata": {},
   "outputs": [],
   "source": [
    "from load_data import load_mnist\r\n",
    "\r\n",
    "MNIST = load_mnist('./')\r\n",
    "images, labels = MNIST['data'], MNIST['target']"
   ]
  },
  {
   "cell_type": "markdown",
   "metadata": {},
   "source": [
    "Now, let's plot a digit from the dataset:"
   ]
  },
  {
   "cell_type": "code",
   "execution_count": null,
   "metadata": {},
   "outputs": [],
   "source": [
    "plt.figure(figsize=(4,4))\r\n",
    "plt.imshow(images[0].reshape(28,28), cmap='gray');\r\n",
    "plt.grid(False)"
   ]
  },
  {
   "cell_type": "markdown",
   "metadata": {},
   "source": [
    "## PCA\r\n",
    "\r\n",
    "Now we will implement PCA. Before we do that, let's pause for a moment and\r\n",
    "think about the steps for performing PCA. Assume that we are performing PCA on\r\n",
    "some dataset $\\boldsymbol X$ for $M$ principal components. \r\n",
    "We then need to perform the following steps, which we break into parts:\r\n",
    "\r\n",
    "1. Data normalization (`normalize`).\r\n",
    "2. Find eigenvalues and corresponding eigenvectors for the covariance matrix $S$.\r\n",
    "   Sort by the largest eigenvalues and the corresponding eigenvectors (`eig`).\r\n",
    "3. Compute the orthogonal projection matrix and use that to project the data onto the subspace spanned by the eigenvectors."
   ]
  },
  {
   "cell_type": "markdown",
   "metadata": {},
   "source": [
    "### Data normalization `normalize`\r\n",
    "\r\n",
    "You will first implement the data normalization mentioned above.\r\n",
    "\r\n",
    "Before you implement the main steps of PCA, you need to do some data preprocessing.\r\n",
    "\r\n",
    "To preprocess the dataset for PCA, you need to make sure that the dataset has zero mean. Given a dataset $\\mathbf{X}$,\r\n",
    " subtract the mean vector from each row of the dataset to obtain a zero-mean dataset $\\overline{\\mathbf{X}}$. In the first part of this notebook, you will implement `normalize` to do that. In practice, sometimes you shall also divide by standard deviation, but this is not necessary for this notebook.\r\n",
    "\r\n",
    "To work with images, it's also a common practice to convert the pixels from unsigned interger 8 (uint8) encoding to a floating point number representation between 0-1. We will do this conversion for you for the MNIST dataset so that you don't have to worry about it.\r\n",
    "\r\n",
    "Data normalization is a common practice. More details can be found in\r\n",
    "[Data Normalization or Feature Scaling](https://en.wikipedia.org/wiki/Feature_scaling)."
   ]
  },
  {
   "cell_type": "code",
   "execution_count": null,
   "metadata": {
    "nbgrader": {
     "grade": false,
     "grade_id": "cell-10a35b1c4186ecb4",
     "locked": false,
     "schema_version": 3,
     "solution": true,
     "task": false
    }
   },
   "outputs": [],
   "source": [
    "# GRADED FUNCTION: DO NOT EDIT THIS LINE\r\n",
    "def normalize(X):\r\n",
    "    \"\"\"Normalize the given dataset X to have zero mean.\r\n",
    "    Args:\r\n",
    "        X: ndarray, dataset of shape (N,D) where D is the dimension of the data,\r\n",
    "           and N is the number of datapoints\r\n",
    "    \r\n",
    "    Returns:\r\n",
    "        (Xbar, mean): tuple of ndarray, Xbar is the normalized dataset\r\n",
    "        with mean 0; mean is the sample mean of the dataset.\r\n",
    "    \"\"\"\r\n",
    "    # YOUR CODE HERE\n",
    "    ### Uncomment and modify the code below\r\n",
    "#     N, D = X.shape\r\n",
    "#     mu = np.zeros((D,)) # <-- EDIT THIS, compute the mean of X\r\n",
    "#     Xbar = X            # <-- EDIT THIS, compute the normalized data Xbar by subtracting mu from each row of X\r\n",
    "#     return Xbar, mu"
   ]
  },
  {
   "cell_type": "code",
   "execution_count": null,
   "metadata": {
    "nbgrader": {
     "grade": true,
     "grade_id": "cell-8ed3ab2f7f38aab4",
     "locked": true,
     "points": 1,
     "schema_version": 3,
     "solution": false,
     "task": false
    }
   },
   "outputs": [],
   "source": [
    "\"\"\"Test data normalization\"\"\"\r\n",
    "from numpy.testing import assert_allclose\r\n",
    "\r\n",
    "\r\n",
    "X0 = np.array([[0, 0.0], \r\n",
    "               [1.0, 1.0], \r\n",
    "               [2.0, 2.0]])\r\n",
    "X0_normalize, X0_mean = normalize(X0)\r\n",
    "# Test that normalized data has zero mean\r\n",
    "assert_allclose(np.mean(X0_normalize, 0), np.zeros((2,)))\r\n",
    "assert_allclose(X0_mean, np.array([1.0, 1.0]))\r\n",
    "assert_allclose(normalize(X0_normalize)[0], X0_normalize)\r\n",
    "\r\n",
    "\r\n",
    "X0 = np.array([[0, 0.0], \r\n",
    "               [1.0, 0.0], \r\n",
    "               [2.0, 0.0]])\r\n",
    "X0_normalize, X0_mean = normalize(X0)\r\n",
    "# Test that normalized data has zero mean and unit variance\r\n",
    "assert_allclose(np.mean(X0_normalize, 0), np.zeros((2,)))\r\n",
    "assert_allclose(X0_mean, np.array([1.0, 0.0]))\r\n",
    "assert_allclose(normalize(X0_normalize)[0], X0_normalize)\r\n",
    "\r\n",
    "# Some hidden tests below\r\n",
    "# ...\r"
   ]
  },
  {
   "cell_type": "markdown",
   "metadata": {},
   "source": [
    "### Compute eigenvalues and eigenvectors `eig`\r\n",
    "\r\n",
    "Recall that in order to find the principal components of the data, you must find the eigenvalues of the covariance matrix. In the next function, you shall write code which computes the eigenvalues and eigenvectors for some covariance matrix and then sorts them in decreasing order of the eigenvalues.\r\n",
    "\r\n",
    "You can use the library routines in `np.linalg.*` ([documentation](https://numpy.org/doc/stable/reference/routines.linalg.html)) for this."
   ]
  },
  {
   "cell_type": "code",
   "execution_count": null,
   "metadata": {
    "nbgrader": {
     "grade": false,
     "grade_id": "cell-6d74b9253f3a0461",
     "locked": false,
     "schema_version": 3,
     "solution": true,
     "task": false
    }
   },
   "outputs": [],
   "source": [
    "# GRADED FUNCTION: DO NOT EDIT THIS LINE\r\n",
    "def eig(S):\r\n",
    "    \"\"\"Compute the eigenvalues and corresponding eigenvectors\r\n",
    "        for the covariance matrix S.\r\n",
    "    Args:\r\n",
    "        S: ndarray, covariance matrix\r\n",
    "\r\n",
    "    Returns:\r\n",
    "        (eigvals, eigvecs): ndarray, the eigenvalues and eigenvectors\r\n",
    "\r\n",
    "    Note:\r\n",
    "        the eigenvals and eigenvecs should be sorted in descending\r\n",
    "        order of the eigen values\r\n",
    "    \"\"\"\r\n",
    "    # YOUR CODE HERE\n",
    "    # Uncomment and modify the code below\r\n",
    "#     # Compute the eigenvalues and eigenvectors\r\n",
    "#     # Note that you can compute both of these with just a single function call\r\n",
    "#     eigvals, eigvecs = None, None\r\n",
    "  \r\n",
    "#     # The eigenvalues and eigenvectors need to be sorted in descending order according to the eigenvalues\r\n",
    "#     # We will use `np.argsort` to find a permutation of the indices of eigvals that will sort eigvals in ascending order and\r\n",
    "#     # then find the descending order via [::-1], which reverse the indices\r\n",
    "#     # (https://docs.scipy.org/doc/numpy/reference/generated/numpy.argsort.html)\r\n",
    "#     sort_indices = np.argsort(eigvals)[::-1]\r\n",
    "  \r\n",
    "#     # Notice that we are sorting the columns (not rows) of eigvecs since the columns represent the eigenvectors.\r\n",
    "#     return eigvals[sort_indices], eigvecs[:, sort_indices]"
   ]
  },
  {
   "cell_type": "markdown",
   "metadata": {},
   "source": [
    "Some test cases for implementing `eig`."
   ]
  },
  {
   "cell_type": "code",
   "execution_count": null,
   "metadata": {
    "nbgrader": {
     "grade": true,
     "grade_id": "cell-a8db750754a119a2",
     "locked": true,
     "points": 1,
     "schema_version": 3,
     "solution": false,
     "task": false
    }
   },
   "outputs": [],
   "source": [
    "def _flip_eigenvectors(B):\r\n",
    "    \"\"\"Flip the eigenvectors.    \r\n",
    "    \"\"\"\r\n",
    "    signs = np.sign(B[np.argmax(np.abs(B), axis=0), range(B.shape[1])])\r\n",
    "    return B * signs\r\n",
    "\r\n",
    "def _normalize_eigenvectors(B):\r\n",
    "    # Normalize eigenvectors to have unit length\r\n",
    "    # Also flip the direction of the eigenvector based on\r\n",
    "    # the first element\r\n",
    "    B_normalized = B / np.linalg.norm(B, axis=0)\r\n",
    "    for i in range(B.shape[1]):\r\n",
    "        if (B_normalized[0, i] < 0):\r\n",
    "            B_normalized[:, i] = -B_normalized[:, i]\r\n",
    "    return B_normalized\r\n",
    "\r\n",
    "\r\n",
    "A = np.array([[3, 2], [2, 3]])\r\n",
    "expected_eigenvalues = np.array([5., 1.])\r\n",
    "expected_eigenvectors = np.array(\r\n",
    "    [[ 0.70710678, -0.70710678],\r\n",
    "     [ 0.70710678,  0.70710678]]\r\n",
    ")\r\n",
    "actual_eigenvalues, actual_eigenvectors = eig(A)\r\n",
    "# Check that the eigenvalues match\r\n",
    "assert_allclose(actual_eigenvalues, expected_eigenvalues)\r\n",
    "# Check that the eigenvectors match\r\n",
    "assert_allclose(\r\n",
    "    _normalize_eigenvectors(actual_eigenvectors),\r\n",
    "    _normalize_eigenvectors(expected_eigenvectors),\r\n",
    ")\r\n",
    "\r"
   ]
  },
  {
   "cell_type": "markdown",
   "metadata": {},
   "source": [
    "### Compute projection matrix\r\n",
    "\r\n",
    "Next given a orthonormal basis spanned by the eigenvectors, you will compute the projection matrix. The projection matrix $P$ can be computed as follows: $$P = \\boldsymbol B(\\boldsymbol B^T\\boldsymbol B)^{-1}\\boldsymbol B^T$$ where $\\boldsymbol B$ is the basis vectors arranged as the columns of the matrix."
   ]
  },
  {
   "cell_type": "code",
   "execution_count": null,
   "metadata": {
    "nbgrader": {
     "grade": false,
     "grade_id": "cell-3498a1f49501ed3d",
     "locked": false,
     "schema_version": 3,
     "solution": true,
     "task": false
    }
   },
   "outputs": [],
   "source": [
    "# GRADED FUNCTION: DO NOT EDIT THIS LINE\r\n",
    "def projection_matrix(B):\r\n",
    "    \"\"\"Compute the projection matrix onto the space spanned by `B`\r\n",
    "    Args:\r\n",
    "        B: ndarray of dimension (D, M), the basis for the subspace\r\n",
    "    \r\n",
    "    Returns:\r\n",
    "        P: the projection matrix\r\n",
    "    \"\"\"\r\n",
    "    # YOUR CODE HERE\n",
    "    # Uncomment and modify the code below\r\n",
    "#     return np.eye(B.shape[0]) # <-- EDIT THIS to compute the projection matrix"
   ]
  },
  {
   "cell_type": "code",
   "execution_count": null,
   "metadata": {
    "nbgrader": {
     "grade": true,
     "grade_id": "cell-65a86398cff0c3ac",
     "locked": true,
     "points": 1,
     "schema_version": 3,
     "solution": false,
     "task": false
    }
   },
   "outputs": [],
   "source": [
    "B = np.array([[1, 0],\r\n",
    "              [1, 1],\r\n",
    "              [1, 2]])\r\n",
    "\r\n",
    "assert_allclose(\r\n",
    "    projection_matrix(B), \r\n",
    "    np.array([[5,  2, -1],\r\n",
    "              [2,  2,  2],\r\n",
    "              [-1, 2,  5]]) / 6\r\n",
    ")\r\n",
    "\r\n",
    "# Some hidden tests below\r"
   ]
  },
  {
   "cell_type": "markdown",
   "metadata": {},
   "source": [
    "### Compute principal component analysis\r\n",
    "\r\n",
    "Now that you have completed `normalize`, `eig` and `projection_matrix`, you are now ready to combine these functions to do PCA. Please do this function only after you have successfully implemented the previous three functions, as this function relies on them being correct. Even if you have implemented `PCA` correctly, you shall not get the score for this function if the previous three functions that you have implemented are incorrect. If you want, you can submit the notebook and make sure of their correctness.\r\n",
    "\r\n",
    "You can compute the covariance matrix $S$ as follows: $$S = \\frac{\\overline{\\mathbf{X}}^T \\overline{\\mathbf{X}}}{n}$$ where $\\overline{\\mathbf{X}}$ is the normalized dataset and $n$ is the number of datapoints."
   ]
  },
  {
   "cell_type": "code",
   "execution_count": null,
   "metadata": {
    "nbgrader": {
     "grade": false,
     "grade_id": "cell-98795bac9f7e1f82",
     "locked": false,
     "schema_version": 3,
     "solution": true,
     "task": false
    }
   },
   "outputs": [],
   "source": [
    "# GRADED FUNCTION: DO NOT EDIT THIS LINE\r\n",
    "def PCA(X, num_components):\r\n",
    "    \"\"\"\r\n",
    "    Args:\r\n",
    "        X: ndarray of size (N, D), where D is the dimension of the data,\r\n",
    "           and N is the number of datapoints\r\n",
    "        num_components: the number of principal components to use.\r\n",
    "    Returns:\r\n",
    "        the reconstructed data, the sample mean of the X, principal values\r\n",
    "        and principal components\r\n",
    "    \"\"\"\r\n",
    "\r\n",
    "    # YOUR CODE HERE\n",
    "    # your solution should take advantage of the functions you have implemented above.\r\n",
    "    ### Uncomment and modify the code below\r\n",
    "#     # first perform normalization on the digits so that they have zero mean and unit variance\r\n",
    "#     X_normalized, mean = None, None # EDIT THIS\r\n",
    "#     # Then compute the data covariance matrix S\r\n",
    "#     S = None # EDIT THIS\r\n",
    "\r\n",
    "#     # Next find eigenvalues and corresponding eigenvectors for S\r\n",
    "#     eig_vals, eig_vecs = eig(S)\r\n",
    "#     # Take the top `num_components` of eig_vals and eig_vecs,\r\n",
    "#     # This will be the corresponding principal values and components\r\n",
    "#     # Remember that the eigenvectors are the columns of the matrix `eig_vecs`\r\n",
    "#     principal_vals, principal_components = None, None\r\n",
    "\r\n",
    "#     # Due to precision errors, the eigenvectors might come out to be complex, so only take their real parts\r\n",
    "#     principal_components = np.real(principal_components) \r\n",
    "\r\n",
    "#     # Reconstruct the data by projecting the normalized data on the basis spanned by the principal components\r\n",
    "#     # Remember that the data points in X_normalized are arranged along the rows\r\n",
    "#     # but while projecting, we need them to be arranged along the columns\r\n",
    "#     # Notice that we have subtracted the mean from X so make sure that you add it back\r\n",
    "#     # to the reconstructed data\r\n",
    "#     reconst = np.zeros_like(X_normalized)\r\n",
    "#     return reconst, mean, principal_vals, principal_components"
   ]
  },
  {
   "cell_type": "markdown",
   "metadata": {},
   "source": [
    "You can use the code block below to incrementally test whether your function is working correctly. Uncomment the last line of the PCA function and run the code block to check if you have made a mistake."
   ]
  },
  {
   "cell_type": "code",
   "execution_count": null,
   "metadata": {},
   "outputs": [],
   "source": [
    "X = np.array([[3, 6, 7],\r\n",
    "              [8, 9, 0],\r\n",
    "              [1, 5, 2]])\r\n",
    "\r\n",
    "reconst, mean, principal_vals, principal_components = PCA(X, 1)\r\n",
    "\r\n",
    "print('Cheacking mean...')\r\n",
    "mean_exp = np.array([4, 20 / 3, 3])\r\n",
    "np.testing.assert_allclose(mean, mean_exp, rtol=1e-5)\r\n",
    "print('Mean is computed correctly!')\r\n",
    "\r\n",
    "print('Checking principal values...')\r\n",
    "principal_vals_exp = np.array([15.39677773])\r\n",
    "np.testing.assert_allclose(principal_vals, principal_vals_exp, rtol=1e-5)\r\n",
    "print('Principal Values are computed correctly!')\r\n",
    "\r\n",
    "print('Checking principal components...')\r\n",
    "principal_components_exp = np.array([[-0.68811066],\r\n",
    "                                     [-0.40362611],\r\n",
    "                                     [ 0.60298398]])\r\n",
    "np.testing.assert_allclose(principal_components, principal_components_exp, rtol=1e-5)\r\n",
    "print(\"Principal components are computed correctly!\")\r\n",
    "\r\n",
    "print('Checking reconstructed data...')\r\n",
    "reconst_exp = np.array([[ 1.68166528,  5.30679755,  5.03153182],\r\n",
    "                        [ 7.7868029 ,  8.8878974 , -0.31833472],\r\n",
    "                        [ 2.53153182,  5.80530505,  4.2868029 ]])\r\n",
    "np.testing.assert_allclose(reconst, reconst_exp, rtol=1e-5)\r\n",
    "print(\"Reconstructed data is computed correctly!\")"
   ]
  },
  {
   "cell_type": "code",
   "execution_count": null,
   "metadata": {},
   "outputs": [],
   "source": [
    "def draw_vector(v0, v1, ax=None, label=None):\r\n",
    "    \"\"\"Draw a vector from v0 to v1.\"\"\"\r\n",
    "    ax = ax or plt.gca()\r\n",
    "    arrowprops=dict(arrowstyle='->',\r\n",
    "                    linewidth=2,\r\n",
    "                    shrinkA=0, shrinkB=0, \r\n",
    "                    color='k')\r\n",
    "    ax.annotate('', v1, v0, arrowprops=arrowprops, label=label)"
   ]
  },
  {
   "cell_type": "markdown",
   "metadata": {},
   "source": [
    "Some test cases that check the implementation of PCA"
   ]
  },
  {
   "cell_type": "code",
   "execution_count": null,
   "metadata": {
    "nbgrader": {
     "grade": true,
     "grade_id": "cell-90d1f11031fdf7d8",
     "locked": true,
     "points": 0,
     "schema_version": 3,
     "solution": false,
     "task": false
    }
   },
   "outputs": [],
   "source": [
    "D = 2\r\n",
    "N = 10\r\n",
    "# Generate a dataset X from a 2D Gaussian distribution\r\n",
    "mvn = scipy.stats.multivariate_normal(\r\n",
    "    mean=np.ones(D, dtype=np.float64), \r\n",
    "    cov=np.array([[1, 0.8], [0.8, 1]], dtype=np.float64)\r\n",
    ")\r\n",
    "\r\n",
    "X = mvn.rvs((N,), random_state=np.random.RandomState(0))\r\n",
    "reconst, m, pv, pc = PCA(X, 1)\r\n",
    "# Check the shape returned by the PCA implementation matches the specification.\r\n",
    "assert reconst.shape == X.shape\r\n",
    "assert m.shape == (D, )\r\n",
    "assert pv.shape == (1, )\r\n",
    "assert pc.shape == (D, 1)\r\n",
    "\r\n",
    "# Check that PCA with num_components == D gives identical reconstruction\r\n",
    "reconst, m, pv, pc = PCA(X, D)\r\n",
    "assert reconst.shape == X.shape\r\n",
    "assert m.shape == (D, )\r\n",
    "assert pv.shape == (2, )\r\n",
    "assert pc.shape == (D, 2)\r\n",
    "assert_allclose(reconst, X)\r\n",
    "\r\n",
    "\r"
   ]
  },
  {
   "cell_type": "code",
   "execution_count": null,
   "metadata": {
    "nbgrader": {
     "grade": true,
     "grade_id": "cell-0c7ba302f4b562c7",
     "locked": true,
     "points": 4.5,
     "schema_version": 3,
     "solution": false,
     "task": false
    }
   },
   "outputs": [],
   "source": []
  },
  {
   "cell_type": "markdown",
   "metadata": {},
   "source": [
    "## Visualize PCA\r\n",
    "We will first visualize what PCA does on a 2D toy dataset. You can use the visualization below to get better intuition about what PCA does and use it to double check your code above."
   ]
  },
  {
   "cell_type": "code",
   "execution_count": null,
   "metadata": {},
   "outputs": [],
   "source": [
    "# This code generates two dimensional points with mean (1, 1) and a covariance of 0.8 between the x and y coordinates\r\n",
    "# Feel free to change these values to generate different distributions\r\n",
    "mvn = scipy.stats.multivariate_normal(\r\n",
    "    mean=np.array([1, 1]), \r\n",
    "    cov=np.array([[1, 0.8], [0.8, 1]])\r\n",
    ")\r\n",
    "\r\n",
    "# X contains 100 points generated according to the above criteria\r\n",
    "X = mvn.rvs((100,), random_state=np.random.RandomState(0))\r\n",
    "\r\n",
    "num_components = 1\r\n",
    "X_reconst, mean, principal_values, principal_components = PCA(X, num_components)\r\n",
    "\r\n",
    "# We shall plot the points that we have generated below\r\n",
    "# You do not need to modify this code\r\n",
    "fig, ax = plt.subplots(figsize=(6, 6))\r\n",
    "ax.scatter(X[:, 0], X[:, 1], label='data')\r\n",
    "plt.axis('equal')\r\n",
    "plt.legend()\r\n",
    "ax.set(xlabel='$\\mathbf{x}_0$', ylabel='$\\mathbf{x}_1$')\r\n",
    "plt.show()"
   ]
  },
  {
   "cell_type": "markdown",
   "metadata": {},
   "source": [
    "We shall now perform PCA on this data and plot the reconstructed points and the direction of the principal component. Can you guess the axis where the reconstructed points should lie?"
   ]
  },
  {
   "cell_type": "code",
   "execution_count": null,
   "metadata": {},
   "outputs": [],
   "source": [
    "# The code below plots the original points, the reconstructed points and the principal component veector\r\n",
    "# You do not need to modify it\r\n",
    "fig, ax = plt.subplots(figsize=(6, 6))\r\n",
    "ax.scatter(X[:, 0], X[:, 1], label='data')\r\n",
    "for (princial_variance, principal_component) in (zip(principal_values, principal_components.T)):\r\n",
    "    draw_vector(\r\n",
    "        mean, mean + np.sqrt(princial_variance) * principal_component, \r\n",
    "        ax=ax)\r\n",
    "ax.scatter(X_reconst[:, 0], X_reconst[:, 1], label='reconstructed')\r\n",
    "plt.axis('equal')\r\n",
    "plt.legend()\r\n",
    "ax.set(xlabel='$\\mathbf{x}_0$', ylabel='$\\mathbf{x}_1$')\r\n",
    "plt.show()"
   ]
  },
  {
   "cell_type": "markdown",
   "metadata": {},
   "source": [
    "We can also compare our PCA implementation with the implementation in scikit-learn (a popular machine learning library in Python that includes implementation of PCA) to see if we get similar results. Note that even if your implementation is correct, the answer your code gives and the answer scikit-learn gives may not be absolutely identical because floating point operations are never exact and always truncated. That is why we allow for a margin of error in the comparison."
   ]
  },
  {
   "cell_type": "code",
   "execution_count": null,
   "metadata": {},
   "outputs": [],
   "source": [
    "random = np.random.RandomState(0)\r\n",
    "X = random.randn(10, 5)\r\n",
    "\r\n",
    "from sklearn.decomposition import PCA as SKPCA\r\n",
    "\r\n",
    "for num_component in range(1, 4):\r\n",
    "    # We can compute a standard solution given by scikit-learn's implementation of PCA\r\n",
    "    pca = SKPCA(n_components=num_component, svd_solver=\"full\")\r\n",
    "    sklearn_reconst = pca.inverse_transform(pca.fit_transform(X))\r\n",
    "    reconst, _, _, _ = PCA(X, num_component)\r\n",
    "    # The difference in the result should be very small (<10^-20)\r\n",
    "    print(\r\n",
    "        \"difference in reconstruction for num_components = {}: {}\".format(\r\n",
    "            num_component, np.square(reconst - sklearn_reconst).sum()\r\n",
    "        )\r\n",
    "    )\r\n",
    "    np.testing.assert_allclose(reconst, sklearn_reconst)"
   ]
  },
  {
   "cell_type": "markdown",
   "metadata": {},
   "source": [
    "## PCA for MNIST digits\r\n",
    "\r\n",
    "Once you have implemented PCA correctly, it's time to apply to the MNIST dataset. Each image in the dataset has a size of 28*28 pixels and thus has a dimensionality of 784. First, we will do some preprocessing of the data to get it into a good shape."
   ]
  },
  {
   "cell_type": "code",
   "execution_count": null,
   "metadata": {
    "nbgrader": {
     "grade": false,
     "grade_id": "cell-55fb94072c74b006",
     "locked": true,
     "schema_version": 3,
     "solution": false,
     "task": false
    }
   },
   "outputs": [],
   "source": [
    "## Some preprocessing of the data\r\n",
    "NUM_DATAPOINTS = 1000\r\n",
    "X = (images.reshape(-1, 28 * 28)[:NUM_DATAPOINTS]) / 255."
   ]
  },
  {
   "cell_type": "markdown",
   "metadata": {},
   "source": [
    "Next, we shall perform PCA on the images and display the original images and the reconstructed images below the original ones. We are currenly using 10 principal components, but we encourage you to change this and see how the reconstructed images differ for different number of components as well. In particular, how good is the reconstruction on using just one or two components? Also, are all the 784 components necessary to get a reconstruction which is pretty much the same as the original image?"
   ]
  },
  {
   "cell_type": "code",
   "execution_count": null,
   "metadata": {},
   "outputs": [],
   "source": [
    "reconst, _, _, _ = PCA(X, num_components=10)\r\n",
    "num_images_to_show = 10\r\n",
    "reconst_images = np.reshape(reconst[:num_images_to_show], (-1, 28, 28))\r\n",
    "fig, ax = plt.subplots(2, 1, figsize=(num_images_to_show * 3, 3))\r\n",
    "ax[0].imshow(np.concatenate(np.reshape(X[:num_images_to_show], (-1, 28, 28)), -1), cmap=\"gray\")\r\n",
    "ax[1].imshow(np.concatenate(reconst_images, -1), cmap=\"gray\");"
   ]
  },
  {
   "cell_type": "markdown",
   "metadata": {},
   "source": [
    "The greater number of of principal components we use, the smaller will our reconstruction\r\n",
    "error be. Now, let's answer the following question: \r\n",
    "\r\n",
    "\r\n",
    "> How many principal components do we need in order to reach a Mean Squared Error (MSE) of less than $10.0$ for our dataset?\r\n",
    "\r\n",
    "Remember that MSE is a measure of the loss of data during reconstruction. Basically it is the mean of the squared distances of the reconstructed data points from the original datapoints.\r\n",
    "\r\n"
   ]
  },
  {
   "cell_type": "markdown",
   "metadata": {},
   "source": [
    "We have provided a function in the next cell which computes the mean squared error (MSE), which will be useful for answering the question above."
   ]
  },
  {
   "cell_type": "code",
   "execution_count": null,
   "metadata": {},
   "outputs": [],
   "source": [
    "def mse(predict, actual):\r\n",
    "    \"\"\"Helper function for computing the mean squared error (MSE)\"\"\"\r\n",
    "    return np.square(predict - actual).sum(axis=1).mean()"
   ]
  },
  {
   "cell_type": "code",
   "execution_count": null,
   "metadata": {},
   "outputs": [],
   "source": [
    "loss = []\r\n",
    "reconstructions = []\r\n",
    "# iterate over different number of principal components, and compute the MSE\r\n",
    "for num_component in range(1, 100, 5):\r\n",
    "    reconst, _, _, _ = PCA(X, num_component)\r\n",
    "    error = mse(reconst, X)\r\n",
    "    reconstructions.append(reconst)\r\n",
    "    # print('n = {:d}, reconstruction_error = {:f}'.format(num_component, error))\r\n",
    "    loss.append((num_component, error))\r\n",
    "\r\n",
    "reconstructions = np.asarray(reconstructions)\r\n",
    "reconstructions = reconstructions\r\n",
    "loss = np.asarray(loss)"
   ]
  },
  {
   "cell_type": "code",
   "execution_count": null,
   "metadata": {},
   "outputs": [],
   "source": [
    "import pandas as pd\r\n",
    "# create a table showing the number of principal components and MSE\r\n",
    "pd.DataFrame(loss, columns=['no. of components', 'mse']).head()"
   ]
  },
  {
   "cell_type": "markdown",
   "metadata": {},
   "source": [
    "We can also put these numbers into perspective by plotting them."
   ]
  },
  {
   "cell_type": "code",
   "execution_count": null,
   "metadata": {},
   "outputs": [],
   "source": [
    "fig, ax = plt.subplots()\r\n",
    "ax.plot(loss[:,0], loss[:,1]);\r\n",
    "ax.axhline(10, linestyle='--', color='r', linewidth=2)\r\n",
    "ax.xaxis.set_ticks(np.arange(1, 100, 5));\r\n",
    "ax.set(xlabel='num_components', ylabel='MSE', title='MSE vs number of principal components');"
   ]
  },
  {
   "cell_type": "markdown",
   "metadata": {},
   "source": [
    "But _numbers don't tell us everything!_ Just what does it mean _qualitatively_ for the loss to decrease from around\r\n",
    "$45.0$ to less than $10.0$?\r\n",
    "\r\n",
    "Let's find out! In the next cell, we draw the the leftmost image is the original digit. Then we show the reconstruction of the image on the right, in descending number of principal components used."
   ]
  },
  {
   "cell_type": "code",
   "execution_count": null,
   "metadata": {},
   "outputs": [],
   "source": [
    "@interact(image_idx=(0, 1000))\r\n",
    "def show_num_components_reconst(image_idx):\r\n",
    "    fig, ax = plt.subplots(figsize=(20., 20.))\r\n",
    "    actual = X[image_idx]\r\n",
    "    # concatenate the actual and reconstructed images as large image before plotting it\r\n",
    "    x = np.concatenate([actual[np.newaxis, :], reconstructions[:, image_idx]])\r\n",
    "    ax.imshow(np.hstack(x.reshape(-1, 28, 28)[np.arange(10)]),\r\n",
    "              cmap='gray');\r\n",
    "    ax.axvline(28, color='orange', linewidth=2)"
   ]
  },
  {
   "cell_type": "markdown",
   "metadata": {},
   "source": [
    "We can also browse through the reconstructions for other digits. Once again, `interact` becomes handy for visualing the reconstruction."
   ]
  },
  {
   "cell_type": "code",
   "execution_count": null,
   "metadata": {},
   "outputs": [],
   "source": [
    "@interact(i=(0, 10))\r\n",
    "def show_pca_digits(i=1):\r\n",
    "    \"\"\"Show the i th digit and its reconstruction\"\"\"\r\n",
    "    plt.figure(figsize=(4,4))\r\n",
    "    actual_sample = X[i].reshape(28,28)\r\n",
    "    reconst_sample = (reconst[i, :]).reshape(28, 28)\r\n",
    "    plt.imshow(np.hstack([actual_sample, reconst_sample]), cmap='gray')\r\n",
    "    plt.grid(False)\r\n",
    "    plt.show()"
   ]
  },
  {
   "cell_type": "markdown",
   "metadata": {},
   "source": [
    "## PCA for high-dimensional datasets\r\n",
    "\r\n",
    "Sometimes, the dimensionality of our dataset may be larger than the number of samples we\r\n",
    "have. Then it might be inefficient to perform PCA with your implementation above. Instead,\r\n",
    "as mentioned in the lectures, you can implement PCA in a more efficient manner, which we\r\n",
    "call \"PCA for high dimensional data\" (PCA_high_dim).\r\n",
    "\r\n",
    "Below are the steps for performing PCA for high dimensional dataset\r\n",
    "1. Normalize the dataset matrix $X$ to obtain $\\overline{X}$ that has zero mean.\r\n",
    "2. Compute the matrix $\\overline{X}\\overline{X}^T$ (a $N$ by $N$ matrix with $N << D$)\r\n",
    "3. Compute eigenvalues $\\lambda$s and eigenvectors $V$ for $\\overline{X}\\overline{X}^T$ with shape (N, N). Compare this with computing the eigenspectrum of $\\overline{X}^T\\overline{X}$ which has shape (D, D), when $N << D$, computation of the eigenspectrum of $\\overline{X}\\overline{X}^T$ will be computationally less expensive.\r\n",
    "4. Compute the eigenvectors for the original covariance matrix as $\\overline{X}^TV$. Choose the eigenvectors associated with the `n` largest eigenvalues to be the basis of the principal subspace $U$.\r\n",
    "    1. Notice that $\\overline{X}^TV$ would give a matrix of shape (D, N) but the eigenvectors beyond the Dth column will have eigenvalues of 0, so it is safe to drop any columns beyond the D'th dimension. \r\n",
    "    2. Also note that the columns of $U$ will not be unit-length if we pre-multiply $V$ with $\\overline{X}^T$, so we will have to normalize the columns of $U$ so that they have unit-length to be consistent with the `PCA` implementation above.\r\n",
    "5. Compute the orthogonal projection of the data onto the subspace spanned by columns of $U$. \r\n",
    "\r\n",
    "Functions you wrote for earlier assignments will be useful."
   ]
  },
  {
   "cell_type": "code",
   "execution_count": null,
   "metadata": {
    "nbgrader": {
     "grade": false,
     "grade_id": "cell-6b8c115e4c40bd67",
     "locked": false,
     "schema_version": 3,
     "solution": true,
     "task": false
    }
   },
   "outputs": [],
   "source": [
    "# GRADED FUNCTION: DO NOT EDIT THIS LINE\r\n",
    "def PCA_high_dim(X, num_components):\r\n",
    "    \"\"\"Compute PCA for small sample size but high-dimensional features. \r\n",
    "    Args:\r\n",
    "        X: ndarray of size (N, D), where D is the dimension of the sample,\r\n",
    "           and N is the number of samples\r\n",
    "        num_components: the number of principal components to use.\r\n",
    "    Returns:\r\n",
    "        X_reconstruct: (N, D) ndarray. the reconstruction\r\n",
    "        of X from the first `num_components` pricipal components.\r\n",
    "    \"\"\"\r\n",
    "    # YOUR CODE HERE\n",
    "    # Uncomment and modify the code below\r\n",
    "#     N, D = X.shape\r\n",
    "#     # Normalize the dataset\r\n",
    "#     X_normalized, mean = None, None\r\n",
    "#     # Find the covariance matrix\r\n",
    "#     M = np.dot(X_normalized, X_normalized.T) / N\r\n",
    "\r\n",
    "#     # Next find eigenvalues and corresponding eigenvectors for S\r\n",
    "#     # Make sure that you only take the first D eigenvalues/vectors\r\n",
    "#     # You can also take a look at the eigenvalues beyond column (D-1) and they should be \r\n",
    "#     # zero (or a very small number due to finite floating point precision)\r\n",
    "#     eig_vals, eig_vecs = None, None\r\n",
    "\r\n",
    "#     # Compute the eigenvalues and eigenvectors for the original system\r\n",
    "#     # eig_vecs = None\r\n",
    "    \r\n",
    "#     # Normalize the eigenvectors to have unit-length\r\n",
    "#     # Take the top `num_components` of the eigenvalues / eigenvectors\r\n",
    "#     # as the principal values and principal components\r\n",
    "#     principal_values = None\r\n",
    "#     principal_components = None\r\n",
    "\r\n",
    "#     # Due to precision errors, the eigenvectors might come out to be complex, so only take their real parts\r\n",
    "#     principal_components = np.real(principal_components)\r\n",
    "\r\n",
    "#     # reconstruct the images from the lower dimensional representation\r\n",
    "#     # Remember to add back the sample mean\r\n",
    "#     reconst = None\r\n",
    "#     return reconst, mean, principal_values, principal_components"
   ]
  },
  {
   "cell_type": "code",
   "execution_count": null,
   "metadata": {
    "nbgrader": {
     "grade": false,
     "grade_id": "cell-ddfc3a4390a8b957",
     "locked": false,
     "schema_version": 3,
     "solution": true,
     "task": false
    }
   },
   "outputs": [],
   "source": [
    "# YOUR CODE HERE"
   ]
  },
  {
   "cell_type": "code",
   "execution_count": null,
   "metadata": {
    "nbgrader": {
     "grade": true,
     "grade_id": "cell-8334eae5a3ead42f",
     "locked": true,
     "points": 2.5,
     "schema_version": 3,
     "solution": false,
     "task": false
    }
   },
   "outputs": [],
   "source": [
    "# Some hidden tests below\r\n",
    "### ...\r"
   ]
  },
  {
   "cell_type": "markdown",
   "metadata": {},
   "source": [
    "Given the same dataset, `PCA_high_dim` and `PCA` should give the same output. \r\n",
    "Assuming we have implemented `PCA`, correctly, we can then use `PCA` to test the correctness\r\n",
    "of `PCA_high_dim`. Given the same dataset, `PCA` and `PCA_high_dim` should give identical results.\r\n",
    "\r\n",
    "We can use this __invariant__\r\n",
    "to test our implementation of PCA_high_dim, assuming that we have correctly implemented `PCA`."
   ]
  },
  {
   "cell_type": "code",
   "execution_count": null,
   "metadata": {
    "nbgrader": {
     "grade": true,
     "grade_id": "cell-e1f35e6bd20a7b6a",
     "locked": true,
     "points": 1,
     "schema_version": 3,
     "solution": false,
     "task": false
    }
   },
   "outputs": [],
   "source": [
    "random = np.random.RandomState(0)\r\n",
    "# Generate some random data\r\n",
    "X = random.randn(5, 4)\r\n",
    "pca_rec, pca_mean, pca_pvs, pca_pcs = PCA(X, 2)\r\n",
    "pca_hd_rec, pca_hd_mean, pca_hd_pvs, pca_hd_pcs = PCA_high_dim(X, 2)\r\n",
    "# Check that the results returned by PCA and PCA_high_dim are identical\r\n",
    "np.testing.assert_allclose(pca_rec, pca_hd_rec)\r\n",
    "np.testing.assert_allclose(pca_mean, pca_hd_mean)\r\n",
    "np.testing.assert_allclose(pca_pvs, pca_pvs)\r\n",
    "np.testing.assert_allclose(pca_pcs, pca_pcs)"
   ]
  },
  {
   "cell_type": "markdown",
   "metadata": {},
   "source": [
    "_Congratulations_! You have now learned how PCA works!"
   ]
  }
 ],
 "metadata": {
  "coursera": {
   "course_slug": "mathematics-machine-learning-pca",
   "graded_item_id": "CXC11",
   "launcher_item_id": "ub5A7"
  },
  "interpreter": {
   "hash": "fa15421863e696996c586a7125639c86e606c31109b5cdd4c487ad3c1cbbc756"
  },
  "kernelspec": {
   "display_name": "Python 3.8.10 64-bit ('coursera': conda)",
   "name": "python3"
  },
  "language_info": {
   "codemirror_mode": {
    "name": "ipython",
    "version": 3
   },
   "file_extension": ".py",
   "mimetype": "text/x-python",
   "name": "python",
   "nbconvert_exporter": "python",
   "pygments_lexer": "ipython3",
   "version": "3.8.10"
  },
  "toc": {
   "base_numbering": 1,
   "nav_menu": {},
   "number_sections": true,
   "sideBar": true,
   "skip_h1_title": true,
   "title_cell": "Table of Contents",
   "title_sidebar": "Contents",
   "toc_cell": false,
   "toc_position": {
    "height": "calc(100% - 180px)",
    "left": "10px",
    "top": "150px",
    "width": "169px"
   },
   "toc_section_display": true,
   "toc_window_display": true
  }
 },
 "nbformat": 4,
 "nbformat_minor": 2
}
