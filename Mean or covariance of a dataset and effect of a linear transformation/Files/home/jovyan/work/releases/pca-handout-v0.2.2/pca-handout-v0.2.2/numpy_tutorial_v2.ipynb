{
 "cells": [
  {
   "cell_type": "markdown",
   "source": [
    "# Introduction to Numpy"
   ],
   "metadata": {}
  },
  {
   "cell_type": "markdown",
   "source": [
    "NumPy is the fundamental package for scientific computing\r\n",
    "in Python. It is a Python library that provides a multidimensional array\r\n",
    "object. In this course, we will be using NumPy for linear algebra.\r\n",
    "\r\n",
    "If you are interested in learning more about NumPy, you can find the user\r\n",
    "guide and reference at the [documentation](https://docs.scipy.org/doc/numpy/index.html).\r\n",
    "\r\n",
    "Feel free to alter the code blocks of this notebook in case you want to try something on your own."
   ],
   "metadata": {}
  },
  {
   "cell_type": "markdown",
   "source": [
    "Let's first import the NumPy package"
   ],
   "metadata": {}
  },
  {
   "cell_type": "code",
   "execution_count": null,
   "source": [
    "import numpy as np # we commonly use the np abbreviation when referring to numpy"
   ],
   "outputs": [],
   "metadata": {}
  },
  {
   "cell_type": "markdown",
   "source": [
    "## Creating Numpy Arrays"
   ],
   "metadata": {}
  },
  {
   "cell_type": "markdown",
   "source": [
    "A Numpy array is similar to a Python list. However, it can only contain elements of the same type."
   ],
   "metadata": {}
  },
  {
   "cell_type": "markdown",
   "source": [
    "New arrays can be made in several ways. We can take an existing list and convert it to a numpy array:"
   ],
   "metadata": {}
  },
  {
   "cell_type": "code",
   "execution_count": null,
   "source": [
    "a = np.array([1,2,3])\r\n",
    "print(a)"
   ],
   "outputs": [],
   "metadata": {}
  },
  {
   "cell_type": "code",
   "execution_count": null,
   "source": [
    "b = np.array([[1, 2, 3],\r\n",
    "              [4, 5, 6],\r\n",
    "              [7, 8, 9]])\r\n",
    "print(b)"
   ],
   "outputs": [],
   "metadata": {}
  },
  {
   "cell_type": "markdown",
   "source": [
    "Note that for 2-dimensional Numpy arrays, all rows must have the same number of elements."
   ],
   "metadata": {}
  },
  {
   "cell_type": "markdown",
   "source": [
    "## Shape of Numpy Arrays"
   ],
   "metadata": {}
  },
  {
   "cell_type": "markdown",
   "source": [
    "You can use [np.shape](https://numpy.org/doc/stable/reference/generated/numpy.shape.html) to get the shape of a Numpy array."
   ],
   "metadata": {}
  },
  {
   "cell_type": "code",
   "execution_count": null,
   "source": [
    "# This is a one dimensional array\r\n",
    "a = np.array([1, 2, 3])\r\n",
    "print(a.shape)"
   ],
   "outputs": [],
   "metadata": {}
  },
  {
   "cell_type": "code",
   "execution_count": null,
   "source": [
    "# This is a two dimensional array\r\n",
    "b = np.array([[1, 2],\r\n",
    "              [3, 4],\r\n",
    "              [5, 6]])\r\n",
    "print(b.shape)"
   ],
   "outputs": [],
   "metadata": {}
  },
  {
   "cell_type": "markdown",
   "source": [
    "Note the difference in shape between one dimensional and two dimensional arrays.\r\n",
    "\r\n",
    "For two dimensional arrays, you can consider the first element of the tuple to be the number of rows and the second element to be the number of columns."
   ],
   "metadata": {}
  },
  {
   "cell_type": "markdown",
   "source": [
    "### Creating Numpy Arrays Based on Shape"
   ],
   "metadata": {}
  },
  {
   "cell_type": "markdown",
   "source": [
    "You can use the functions [np.zeros()](https://numpy.org/doc/stable/reference/generated/numpy.zeros.html) and [np.ones()](https://numpy.org/doc/stable/reference/generated/numpy.zeros.html) to create Numpy arrays of a specified shape. The input of the function is the shape of the Numpy array which you want to get."
   ],
   "metadata": {}
  },
  {
   "cell_type": "code",
   "execution_count": null,
   "source": [
    "a = np.zeros((5,))\r\n",
    "print(a)"
   ],
   "outputs": [],
   "metadata": {}
  },
  {
   "cell_type": "code",
   "execution_count": null,
   "source": [
    "b = np.zeros((2, 3))\r\n",
    "print(b)"
   ],
   "outputs": [],
   "metadata": {}
  },
  {
   "cell_type": "code",
   "execution_count": null,
   "source": [
    "b = np.ones((3, 2))\r\n",
    "print(b)"
   ],
   "outputs": [],
   "metadata": {}
  },
  {
   "cell_type": "markdown",
   "source": [
    "### Reshaping Arrays"
   ],
   "metadata": {}
  },
  {
   "cell_type": "markdown",
   "source": [
    "You can use the function [np.reshape()](https://numpy.org/doc/stable/reference/generated/numpy.reshape.html) to change the shape of a Numpy array."
   ],
   "metadata": {}
  },
  {
   "cell_type": "markdown",
   "source": [
    "One use of this function is to change one dimensional Numpy arrays to two dimensional row vectors or column vectors.\r\n",
    "\r\n",
    "You pass in the required dimension which the array needs to be reshaped to as input to the function. One of the values in the tuple can be -1. This value shall then be determined automatically. You shall get an error if you have more than one -1 in the shape.\r\n",
    "\r\n",
    "Reshape is often used in conjunction with [np.arange()](https://numpy.org/doc/stable/reference/generated/numpy.arange.html).\r\n",
    "\r\n",
    "`np.arange(x)` shall return a one dimensional array which contains the elements $[0, 1, \\dots, x - 1]$."
   ],
   "metadata": {}
  },
  {
   "cell_type": "code",
   "execution_count": null,
   "source": [
    "a = np.arange(3)\r\n",
    "print(a)\r\n",
    "print(a.shape)"
   ],
   "outputs": [],
   "metadata": {}
  },
  {
   "cell_type": "code",
   "execution_count": null,
   "source": [
    "# Reshaping it to a row vector\r\n",
    "# The first value of the tuple is 1 because a row vector only has 1 row\r\n",
    "a = a.reshape((1, -1))\r\n",
    "print(a)\r\n",
    "print(a.shape)"
   ],
   "outputs": [],
   "metadata": {}
  },
  {
   "cell_type": "code",
   "execution_count": null,
   "source": [
    "# Reshaping it to a column vector\r\n",
    "# Why does this shape work?\r\n",
    "a = a.reshape((-1, 1))\r\n",
    "print(a)\r\n",
    "print(a.shape)"
   ],
   "outputs": [],
   "metadata": {}
  },
  {
   "cell_type": "code",
   "execution_count": null,
   "source": [
    "# Reshaping an array we get from arange\r\n",
    "a = np.arange(6)\r\n",
    "print(\"A: Original\")\r\n",
    "print(a)\r\n",
    "print(a.shape)\r\n",
    "\r\n",
    "a = a.reshape((3, 2))\r\n",
    "print(\"A: Reshaped\")\r\n",
    "print(a)\r\n",
    "print(a.shape)"
   ],
   "outputs": [],
   "metadata": {}
  },
  {
   "cell_type": "markdown",
   "source": [
    "## Accessing Numpy Arrays"
   ],
   "metadata": {}
  },
  {
   "cell_type": "markdown",
   "source": [
    "You can use the common square bracket notation for accessing the elements of a Numpy array. \r\n",
    "\r\n",
    "If $A$ is a one dimensional array, then you can use `A[i]` to access the $i^{{th}}$ element of $A$.\r\n",
    "\r\n",
    "If $A$ is a two dimensional array, then you can use `A[i, j]` to access element $a_{{i, j}}$, where $i$ is the row and $j$ is the column.\r\n",
    "\r\n",
    "Note that Numpy arrays are 0 indexed."
   ],
   "metadata": {}
  },
  {
   "cell_type": "code",
   "execution_count": null,
   "source": [
    "a = np.arange(4)\r\n",
    "\r\n",
    "print(a)\r\n",
    "\r\n",
    "print(\"The 2th element of A\")\r\n",
    "print(a[2])"
   ],
   "outputs": [],
   "metadata": {}
  },
  {
   "cell_type": "code",
   "execution_count": null,
   "source": [
    "a = np.arange(9).reshape(3, 3)\r\n",
    "\r\n",
    "print(a)\r\n",
    "\r\n",
    "print(\"The 1th row of the array:\")\r\n",
    "print(a[1])\r\n",
    "\r\n",
    "print(\"Element at 0th row and 0th column:\")\r\n",
    "print(a[0, 0])\r\n",
    "\r\n",
    "print(\"Element at 2th row and 1th column:\")\r\n",
    "print(a[2, 1])"
   ],
   "outputs": [],
   "metadata": {}
  },
  {
   "cell_type": "markdown",
   "source": [
    "### Array Slicing"
   ],
   "metadata": {}
  },
  {
   "cell_type": "markdown",
   "source": [
    "You can select more than one element along a certain dimenson by using the slicing notation. Suppose $A$ is a one dimensional array. If you want to get all elements from an array with $index >= start$ but $index < end$, you can use the following: `A[start:end]`\r\n",
    "\r\n",
    "To get all the elements, you can use: `A[:]`\r\n",
    "\r\n",
    "Read more about the slicing notation in the [documentation](https://numpy.org/doc/stable/reference/arrays.indexing.html)."
   ],
   "metadata": {}
  },
  {
   "cell_type": "markdown",
   "source": [
    "You can conveniently get the $i^{{th}}$ column of a two dimensional array $A$ by using: `A[:, i]`\r\n",
    "\r\n",
    "Think of this as getting all the rows of the $i^{{th}}$ column of $A$. Note that this returns the result as a one dimensional array. You need to reshape it if you want the answer as a column vector."
   ],
   "metadata": {}
  },
  {
   "cell_type": "code",
   "execution_count": null,
   "source": [
    "a = np.arange(16).reshape(4, 4)\r\n",
    "print(a)\r\n",
    "\r\n",
    "print(\"The 1th column of the array:\")\r\n",
    "print(a[:, 1])\r\n",
    "\r\n",
    "print(\"The 3th column of the array reshaped into a column vector:\")\r\n",
    "print(a[:, 3].reshape(-1, 1))"
   ],
   "outputs": [],
   "metadata": {}
  },
  {
   "cell_type": "markdown",
   "source": [
    "You shall now apply what you have learned so for in the following question."
   ],
   "metadata": {}
  },
  {
   "cell_type": "markdown",
   "source": [
    "### Finding The Trace of a Matrix"
   ],
   "metadata": {}
  },
  {
   "cell_type": "markdown",
   "source": [
    "In the next function, you shall be given a square matrix $A$. You need to find the *trace* of $A$, which is defined to be the sum of all elements on the principal diagonal of $A$.\r\n",
    "\r\n",
    "**Hint**: Each element of the principal diagonal has an index of the form $(i, i)$."
   ],
   "metadata": {}
  },
  {
   "cell_type": "code",
   "execution_count": null,
   "source": [
    "def trace(A):\r\n",
    "    \"\"\"\r\n",
    "    Find the trace of A\r\n",
    "\r\n",
    "    Arguments:\r\n",
    "    A: A two dimensional square matrix\r\n",
    "\r\n",
    "    Returns:\r\n",
    "    s: The trace of A\r\n",
    "    \"\"\"\r\n",
    "\r\n",
    "    s = 0\r\n",
    "\r\n",
    "    ### BEGIN SOLUTION\r\n",
    "\r\n",
    "    # Get the number of rows in A\r\n",
    "    n = 0 # Replace the 0 with the correct code to get the number of rows\r\n",
    "\r\n",
    "    # Loop over all elements of the principal diagonal\r\n",
    "    for i in range(n):\r\n",
    "        s += None # Replace the None with the required element of A\r\n",
    "\r\n",
    "    # END SOLUTION\r\n",
    "\r\n",
    "    return s"
   ],
   "outputs": [],
   "metadata": {}
  },
  {
   "cell_type": "markdown",
   "source": [
    "In order to test your code, we shall be using the testing module of Numpy. More on this later."
   ],
   "metadata": {}
  },
  {
   "cell_type": "code",
   "execution_count": null,
   "source": [
    "A = np.array([[3, 2, 7],\r\n",
    "              [4, 9, 0],\r\n",
    "              [1, 8, 5]])\r\n",
    "s_exp = 17\r\n",
    "np.testing.assert_allclose(trace(A), s_exp, rtol=1e-5)\r\n",
    "\r\n",
    "A = np.array([[12, -2, 31, 18],\r\n",
    "              [32, -77, -24, 19],\r\n",
    "              [87, 93, -53, 13],\r\n",
    "              [49, 81, 63, 70]])\r\n",
    "s_exp = -48\r\n",
    "np.testing.assert_allclose(trace(A), s_exp, rtol=1e-5)\r\n",
    "\r\n",
    "print(\"All tests passed!\")"
   ],
   "outputs": [],
   "metadata": {}
  },
  {
   "cell_type": "markdown",
   "source": [
    "## Operations on Numpy Arrays"
   ],
   "metadata": {}
  },
  {
   "cell_type": "markdown",
   "source": [
    "You can use the operations '`*`', '`+`', '`-`', '`**`' and '`/`' on numpy arrays and they operate element-wise.\r\n",
    "\r\n",
    "Generally, both the arrays must have the same shape, but see broadcasting later in the notebook."
   ],
   "metadata": {}
  },
  {
   "cell_type": "code",
   "execution_count": null,
   "source": [
    "a = np.array([[4, 1, 2],\r\n",
    "              [7, 2, 3]])\r\n",
    "\r\n",
    "b = np.array([[3, 6, 9],\r\n",
    "              [7, 8, 2]])"
   ],
   "outputs": [],
   "metadata": {}
  },
  {
   "cell_type": "code",
   "execution_count": null,
   "source": [
    "print(a + b)"
   ],
   "outputs": [],
   "metadata": {}
  },
  {
   "cell_type": "code",
   "execution_count": null,
   "source": [
    "print(a - b)"
   ],
   "outputs": [],
   "metadata": {}
  },
  {
   "cell_type": "code",
   "execution_count": null,
   "source": [
    "print(a * b)"
   ],
   "outputs": [],
   "metadata": {}
  },
  {
   "cell_type": "code",
   "execution_count": null,
   "source": [
    "print(a / b)"
   ],
   "outputs": [],
   "metadata": {}
  },
  {
   "cell_type": "code",
   "execution_count": null,
   "source": [
    "print(a ** b)"
   ],
   "outputs": [],
   "metadata": {}
  },
  {
   "cell_type": "markdown",
   "source": [
    "Some other useful functions is Numpy are [np.sqrt()](https://numpy.org/doc/stable/reference/generated/numpy.sqrt.html), [np.exp()](https://numpy.org/doc/stable/reference/generated/numpy.exp.html), [np.log()](https://numpy.org/doc/stable/reference/generated/numpy.sqrt.html) which apply the corresponding operation to every element of the inputted Numpy array."
   ],
   "metadata": {}
  },
  {
   "cell_type": "code",
   "execution_count": null,
   "source": [
    "print(np.sqrt(a))"
   ],
   "outputs": [],
   "metadata": {}
  },
  {
   "cell_type": "code",
   "execution_count": null,
   "source": [
    "print(np.exp(a))"
   ],
   "outputs": [],
   "metadata": {}
  },
  {
   "cell_type": "code",
   "execution_count": null,
   "source": [
    "print(np.log(a))"
   ],
   "outputs": [],
   "metadata": {}
  },
  {
   "cell_type": "markdown",
   "source": [
    "### Broadcasting"
   ],
   "metadata": {}
  },
  {
   "cell_type": "markdown",
   "source": [
    "Broadcasting allows you to perform element wise operations on Numpy arrays that are not of the same dimension but can be strected/duplicated so that they are of the same dimenson.\r\n",
    "\r\n",
    "The simplest example for this is when you have to multiply all elements of a Numpy array with a scaler or add a scaler to all elements of the array."
   ],
   "metadata": {}
  },
  {
   "cell_type": "code",
   "execution_count": null,
   "source": [
    "print(a * 2)"
   ],
   "outputs": [],
   "metadata": {}
  },
  {
   "cell_type": "code",
   "execution_count": null,
   "source": [
    "print(a + 2)"
   ],
   "outputs": [],
   "metadata": {}
  },
  {
   "cell_type": "markdown",
   "source": [
    "The way to think about this is to imagine that the number $2$ is being duplicated so that it fills all the elements of a Numpy array which has the same shape as that of $a$. Then, the regular element-wise operation is applicable.\r\n",
    "\r\n",
    "Broadcasting can also be applied during operation between two arrays of different shapes. Suppose that $a$ is an array of shape $(2, 3)$ whereas $c$ is an array of shape $(1, 3)$. Then, when an operation is performed between $a$ and $c$, you can think of $c$ being duplicated along the axis of the rows so that its shape is $(2, 3)$."
   ],
   "metadata": {}
  },
  {
   "cell_type": "code",
   "execution_count": null,
   "source": [
    "c = np.array([5, 3, 4]).reshape((1, 3))\r\n",
    "\r\n",
    "print('a:\\n', a)\r\n",
    "print('c:\\n', c)\r\n",
    "print('a + c:\\n', a + c)"
   ],
   "outputs": [],
   "metadata": {}
  },
  {
   "cell_type": "markdown",
   "source": [
    "You shall get an error if you try to perform an element wise operation on two arrays which cannot be broadcasted together."
   ],
   "metadata": {}
  },
  {
   "cell_type": "code",
   "execution_count": null,
   "source": [
    "a = np.arange(6).reshape((2, 3))\r\n",
    "print(a)\r\n",
    "\r\n",
    "b = np.arange(4).reshape((2, 2))\r\n",
    "print(b)\r\n",
    "\r\n",
    "print(a + b)"
   ],
   "outputs": [],
   "metadata": {}
  },
  {
   "cell_type": "markdown",
   "source": [
    "Broadcasting is a very powerful feauture of Numpy which often reduces the complexity of your code.\r\n",
    "\r\n",
    "To know more about broadcasting, you can read the [documentation](https://numpy.org/doc/stable/user/basics.broadcasting.html)."
   ],
   "metadata": {}
  },
  {
   "cell_type": "markdown",
   "source": [
    "Now you will write a function which makes use of broadcasting to perform operations on a Numpy array."
   ],
   "metadata": {}
  },
  {
   "cell_type": "markdown",
   "source": [
    "### Sigmoid Function\r\n",
    "\r\n",
    "Sigmoid is a very important function in machine learning. Its formula is given by: $$\\operatorname{sigmoid}(x) = \\frac{1}{1+e^{-x}}$$"
   ],
   "metadata": {}
  },
  {
   "cell_type": "markdown",
   "source": [
    "Write a function which computes the sigmoid of $x$. Note that $x$ might be a real number or a Numpy array."
   ],
   "metadata": {}
  },
  {
   "cell_type": "code",
   "execution_count": null,
   "source": [
    "def sigmoid(x):\r\n",
    "    \"\"\"\r\n",
    "    Computes the sigmoid of x\r\n",
    "\r\n",
    "    Arguments:\r\n",
    "    x: A real number or a Numpy array\r\n",
    "\r\n",
    "    Returns:\r\n",
    "    s: The sigmoid of x\r\n",
    "    \"\"\"\r\n",
    "\r\n",
    "    ### BEGIN SOLUTION\r\n",
    "    s = None\r\n",
    "    ### END SOLUTION\r\n",
    "    \r\n",
    "    return s"
   ],
   "outputs": [],
   "metadata": {}
  },
  {
   "cell_type": "code",
   "execution_count": null,
   "source": [
    "x = 2.1\r\n",
    "expected = 0.8909031\r\n",
    "np.testing.assert_allclose(sigmoid(x), expected, rtol=1e-5)\r\n",
    "\r\n",
    "x = np.array([[3.4, -7.1, 9.4],\r\n",
    "              [-2.7, 8.882, -2.114]])\r\n",
    "expected = np.array([[9.67704535e-01, 8.24424686e-04, 9.99917283e-01],\r\n",
    "                     [6.29733561e-02, 9.99861153e-01, 1.07743524e-01]])\r\n",
    "np.testing.assert_allclose(sigmoid(x), expected, rtol=1e-5)\r\n",
    "\r\n",
    "print(\"All tests passed!\")"
   ],
   "outputs": [],
   "metadata": {}
  },
  {
   "cell_type": "markdown",
   "source": [
    "### Performing Operations Along an Axis"
   ],
   "metadata": {}
  },
  {
   "cell_type": "markdown",
   "source": [
    "Numpy also has other useful functions like [np.sum()](https://numpy.org/doc/stable/reference/generated/numpy.sum.html), [np.max()](https://numpy.org/doc/stable/reference/generated/numpy.amax.html) and [np.min()](https://numpy.org/doc/stable/reference/generated/numpy.amin.html).\r\n",
    "\r\n",
    "When you just pass the Numpy array to these functions, they simply return the answer of the operation over the entire array. Now suppose you want to find the maximum element of each column of an array. You can do this by passing an additional argument called `axis` to the function.\r\n",
    "\r\n",
    "If $A$ is a two dimensional array, if you want to find the maximum of each column of $A$, you can use: `np.max(A, axis=0)`\r\n",
    "\r\n",
    "If $A$ is a two dimensional array, if you want to find the maximum of each row of $A$, you can use: `np.max(A, axis=1)`\r\n",
    "\r\n",
    "A point to note is that these functions may return one dimensional arrays, which might cause errors with broadcasting. In order to make sure that two dimensional arrays are returned, you must pass the argument `keepdims=True` in the function: `np.max(A, axis=0, keepdims=True)`"
   ],
   "metadata": {}
  },
  {
   "cell_type": "code",
   "execution_count": null,
   "source": [
    "# Minimum of all elements of array\r\n",
    "\r\n",
    "a = np.array([[2, 1, 3],\r\n",
    "              [4, 5, 6]])\r\n",
    "\r\n",
    "print(a)\r\n",
    "print(np.min(a))"
   ],
   "outputs": [],
   "metadata": {}
  },
  {
   "cell_type": "code",
   "execution_count": null,
   "source": [
    "# Sum of all columns of an array, returned as one dimensional array\r\n",
    "print(np.sum(a, axis=0))"
   ],
   "outputs": [],
   "metadata": {}
  },
  {
   "cell_type": "code",
   "execution_count": null,
   "source": [
    "# Sum of all columns of an array, returned as a two dimensional array\r\n",
    "print(np.sum(a, axis=0, keepdims=True))"
   ],
   "outputs": [],
   "metadata": {}
  },
  {
   "cell_type": "code",
   "execution_count": null,
   "source": [
    "# Sum of all rows of an array\r\n",
    "print(np.sum(a, axis=1, keepdims=True))"
   ],
   "outputs": [],
   "metadata": {}
  },
  {
   "cell_type": "markdown",
   "source": [
    "### Normalizing All Columns of an Array"
   ],
   "metadata": {}
  },
  {
   "cell_type": "markdown",
   "source": [
    "Before a machine learning model is applied to data, it is very common to first normalize it. In the next exercise, you will need to normalize all the columns of an array. Suppose that $x_i$ is the $i^{{th}}$ column of the input array, and $c_i$ is the $i^{{th}}$ column of the output array, then: $$c_i = \\frac{x_i - \\operatorname{mean}(x_i)}{\\sigma(x_i)}$$ \r\n",
    "where $\\operatorname{mean}(x_i)$ is the algebraic mean of all the elements of $x_i$ and $\\sigma(x_i)$ is the standard deviation of all the elements of $x_i$."
   ],
   "metadata": {}
  },
  {
   "cell_type": "markdown",
   "source": [
    "For this exercise, you may assume that $\\sigma(x)$ is never equal to $0$. \r\n",
    "\r\n",
    "Try to complete this exercise without using any for loops. Numpy functions make use of a technique called vectorization which make them much faster than for loops. Using vectorized implementations can often make magnitudes of difference in the training time of your models: where your model might initially take a couple of days to train, it would now be done in a couple of hours.\r\n",
    "\r\n",
    "If you are stuck, you may find [np.mean()](https://numpy.org/doc/stable/reference/generated/numpy.mean.html) and [np.std()](https://numpy.org/doc/stable/reference/generated/numpy.std.html) useful."
   ],
   "metadata": {}
  },
  {
   "cell_type": "code",
   "execution_count": null,
   "source": [
    "def normalize(x):\r\n",
    "    \"\"\"\r\n",
    "    Normalize all the columns of x\r\n",
    "\r\n",
    "    Arguments:\r\n",
    "    x: A two dimensional Numpy array\r\n",
    "\r\n",
    "    Returns:\r\n",
    "    c: The normalized version of x\r\n",
    "    \"\"\"\r\n",
    "\r\n",
    "    ### BEGIN SOLUTION\r\n",
    "\r\n",
    "    # Calculate the mean of all columns\r\n",
    "    mean = None\r\n",
    "\r\n",
    "    # Calculate the standard deviation all columns\r\n",
    "    sigma = None\r\n",
    "\r\n",
    "    # Compute the final answer\r\n",
    "    c = None\r\n",
    "\r\n",
    "    ### END SOLUTION\r\n",
    "\r\n",
    "    return c"
   ],
   "outputs": [],
   "metadata": {}
  },
  {
   "cell_type": "code",
   "execution_count": null,
   "source": [
    "x = np.array([[1, 4],\r\n",
    "              [3, 2]])\r\n",
    "expected = np.array([[-1, 1],\r\n",
    "                     [1, -1]])\r\n",
    "np.testing.assert_allclose(normalize(x), expected, rtol=1e-5)\r\n",
    "\r\n",
    "x = np.array([[324.33, 136.11, 239.38, 237.17],\r\n",
    "              [123.43, 325.24, 243.52, 745.25],\r\n",
    "              [856.36, 903.02, 430.25, 531.35]])\r\n",
    "expected = np.array([[-0.35694152, -0.97689929, -0.73023324, -1.28391946],\r\n",
    "                     [-1.00662188, -0.39712973, -0.68372539,  1.1554411 ],\r\n",
    "                     [ 1.3635634 ,  1.37402902,  1.41395863,  0.12847837]])\r\n",
    "np.testing.assert_allclose(normalize(x), expected, rtol=1e-5)\r\n",
    "\r\n",
    "print(\"All tests passed!\")"
   ],
   "outputs": [],
   "metadata": {}
  },
  {
   "cell_type": "markdown",
   "source": [
    "## Linear Algebra"
   ],
   "metadata": {}
  },
  {
   "cell_type": "markdown",
   "source": [
    "In this course, we use Numpy arrays for linear algebra. We shall use one dimensional arrays or two dimensional column vectors (two dimensional arrays of shape $(d, 1)$) to represent vectors and two dimensional arrays to represent matrices."
   ],
   "metadata": {}
  },
  {
   "cell_type": "code",
   "execution_count": null,
   "source": [
    "a = np.arange(6)\r\n",
    "print('A Vector:\\n', a)\r\n",
    "\r\n",
    "a = np.array([[1, 2, 3],\r\n",
    "              [4, 5, 6]]) # Can you think of a better way to create this array?\r\n",
    "print('A Matrix:\\n', a)"
   ],
   "outputs": [],
   "metadata": {}
  },
  {
   "cell_type": "markdown",
   "source": [
    "### Transposing a Matrix"
   ],
   "metadata": {}
  },
  {
   "cell_type": "markdown",
   "source": [
    "Suppose `A` is a matrix, then you can take the transpose of `A` with `A.T`"
   ],
   "metadata": {}
  },
  {
   "cell_type": "code",
   "execution_count": null,
   "source": [
    "A = np.array([[5, 2, 9],\r\n",
    "              [6, 1, 0]])\r\n",
    "\r\n",
    "print('A\\n', A)\r\n",
    "print('A.T\\n', A.T)\r\n",
    "\r\n",
    "B = np.arange(9).reshape((3, 3))\r\n",
    "\r\n",
    "print('B\\n', B)\r\n",
    "print('B.T\\n', B.T)"
   ],
   "outputs": [],
   "metadata": {}
  },
  {
   "cell_type": "markdown",
   "source": [
    "Note that taking the transpose of a 1D array has **NO** effect."
   ],
   "metadata": {}
  },
  {
   "cell_type": "code",
   "execution_count": null,
   "source": [
    "a = np.ones(3)\r\n",
    "print('A:\\n', a)\r\n",
    "print('Shape of A:\\n', a.shape)\r\n",
    "print('A.T:\\n', a.T)\r\n",
    "print('Shape of A.T:\\n', a.T.shape)"
   ],
   "outputs": [],
   "metadata": {}
  },
  {
   "cell_type": "markdown",
   "source": [
    "But it does work if you have a 2D array of shape $(d, 1)$\r\n"
   ],
   "metadata": {}
  },
  {
   "cell_type": "code",
   "execution_count": null,
   "source": [
    "a = np.ones((3,1))\r\n",
    "print('A:\\n', a)\r\n",
    "print('Shape of A:\\n', a.shape)\r\n",
    "print('A.T:\\n', a.T)\r\n",
    "print('Shape of A.T:\\n', a.T.shape)"
   ],
   "outputs": [],
   "metadata": {}
  },
  {
   "cell_type": "markdown",
   "source": [
    "### Dot Product and Matrix Product"
   ],
   "metadata": {}
  },
  {
   "cell_type": "markdown",
   "source": [
    "You can compute the dot product of two vectors or the matrix product between two matrices using [np.dot()](https://numpy.org/doc/stable/reference/generated/numpy.dot.html) or the `@` operator. Going forward, we shall only be using the `@` operator."
   ],
   "metadata": {}
  },
  {
   "cell_type": "code",
   "execution_count": null,
   "source": [
    "x = np.array([1, 2, 3])\r\n",
    "y = np.array([4, 5, 6])\r\n",
    "print('x:\\n', x)\r\n",
    "print('y:\\n', y)\r\n",
    "print('np.dot(x, y):\\n', np.dot(x, y))\r\n",
    "print('x @ y:\\n', x @ y)"
   ],
   "outputs": [],
   "metadata": {}
  },
  {
   "cell_type": "markdown",
   "source": [
    "You can use this operator to compute matrix-matrix and matrix-vector product as well."
   ],
   "metadata": {}
  },
  {
   "cell_type": "code",
   "execution_count": null,
   "source": [
    "A = np.array([[2, 0, 1],\r\n",
    "              [1, 3, 4],\r\n",
    "              [0, 2, 1]])\r\n",
    "\r\n",
    "B = np.arange(6).reshape(3, 2)\r\n",
    "\r\n",
    "C = np.array([3, 2, 8]).reshape((-1, 1))\r\n",
    "\r\n",
    "print('A:\\n', A)\r\n",
    "print('B:\\n', B)\r\n",
    "print('A @ B:\\n', A @ B)\r\n",
    "\r\n",
    "print('A:\\n', A)\r\n",
    "print('C:\\n', C)\r\n",
    "print('A @ C:\\n', A @ C)"
   ],
   "outputs": [],
   "metadata": {}
  },
  {
   "cell_type": "markdown",
   "source": [
    "Note that if you try to multiply two matrices which are not compatible for multiplication, you get an error."
   ],
   "metadata": {}
  },
  {
   "cell_type": "code",
   "execution_count": null,
   "source": [
    "print(B.shape)\r\n",
    "print(A.shape)\r\n",
    "print(B @ A)"
   ],
   "outputs": [],
   "metadata": {}
  },
  {
   "cell_type": "markdown",
   "source": [
    "### The Linalg Library of Numpy"
   ],
   "metadata": {}
  },
  {
   "cell_type": "markdown",
   "source": [
    "The Numpy library ships with [np.linalg](https://numpy.org/doc/stable/reference/routines.linalg.html) package which lets us compute many properties of matrices.\r\n",
    "\r\n",
    "For example, we can compute the determinant of a square matrix by using [np.linalg.det()](https://numpy.org/doc/stable/reference/generated/numpy.linalg.det.html)."
   ],
   "metadata": {}
  },
  {
   "cell_type": "code",
   "execution_count": null,
   "source": [
    "# This computes the determinant\r\n",
    "print(np.linalg.det(A))"
   ],
   "outputs": [],
   "metadata": {}
  },
  {
   "cell_type": "markdown",
   "source": [
    "We can compute the inverse of a matrix by using [np.linalg.inv()](https://numpy.org/doc/stable/reference/generated/numpy.linalg.inv.html)."
   ],
   "metadata": {}
  },
  {
   "cell_type": "code",
   "execution_count": null,
   "source": [
    "# This computes the inverse\r\n",
    "print(np.linalg.inv(A))\r\n",
    "\r\n",
    "I = np.eye(3) # We can use this function to generate the identity matrix\r\n",
    "np.testing.assert_allclose(A @ np.linalg.inv(A), I, atol=1e-10)"
   ],
   "outputs": [],
   "metadata": {}
  },
  {
   "cell_type": "markdown",
   "source": [
    "We can compute the eigenvalues and eigenvectors of a matrix using [np.linalg.eig()](https://numpy.org/doc/stable/reference/generated/numpy.linalg.eig.html)."
   ],
   "metadata": {}
  },
  {
   "cell_type": "code",
   "execution_count": null,
   "source": [
    "# This computes the eigenvalues and eigenvectors\r\n",
    "eigenvalues, eigenvectors = np.linalg.eig(A)\r\n",
    "print(\"The eigenvalues are\\n\", eigenvalues)\r\n",
    "print(\"The eigenvectors are\\n\", eigenvectors)"
   ],
   "outputs": [],
   "metadata": {}
  },
  {
   "cell_type": "markdown",
   "source": [
    "You shall now apply all the concepts that you have learned in the next sections."
   ],
   "metadata": {}
  },
  {
   "cell_type": "markdown",
   "source": [
    "### Diagonalizing a Matrix"
   ],
   "metadata": {}
  },
  {
   "cell_type": "markdown",
   "source": [
    "In this question, you shall be given a square matrix which you need to diagonalize. In particular, you will be given a diagonalizable matrix $A$ and you need to find matrices $S$ and $D$ such that: $$A = SDS^{{-1}}$$\r\n",
    "\r\n",
    "Recall that in order to do this, you must first find all the eigenvalues and eigenvectors of $A$. Then, $S$ is the matrix of all the eigenvectors arranged as columns, and $D$ is the matrix of the corresponding eigenvalues arranged along the diagonal.\r\n",
    "\r\n",
    "Suppose $A = \r\n",
    "\\begin{bmatrix}\r\n",
    "1 & 5 \\\\\r\n",
    "2 & 4 \\\\\r\n",
    "\\end{bmatrix} $\r\n",
    "\r\n",
    "Then, we can calculate $S = \r\n",
    "\\begin{bmatrix}\r\n",
    "-2.5 & 1 \\\\\r\n",
    "1 & 1 \\\\\r\n",
    "\\end{bmatrix} $\r\n",
    "\r\n",
    "And $D = \r\n",
    "\\begin{bmatrix}\r\n",
    "-1 & 0 \\\\\r\n",
    "0 & 6 \\\\\r\n",
    "\\end{bmatrix} $\r\n",
    "\r\n",
    "You might find [np.zeros()](https://numpy.org/devdocs/reference/generated/numpy.zeros.html), [np.linalg.eig()](https://numpy.org/devdocs/reference/generated/numpy.linalg.eig.html) and [np.linalg.inv()](https://numpy.org/devdocs/reference/generated/numpy.linalg.inv.html) useful. Note that for this exercise, you may assume that $A$ is always diagonalizable.\r\n",
    "\r\n",
    "For testing purposes, each eigenvector in $S$ must be of unit length. This shall always be the case if you use [np.linalg.eig()](https://numpy.org/devdocs/reference/generated/numpy.linalg.eig.html). However, if you do not use this function, then depending on your implementation, you might have to normalize the eigenvectors. Also, the eigenvalues must appear in non decreasing order."
   ],
   "metadata": {}
  },
  {
   "cell_type": "code",
   "execution_count": null,
   "source": [
    "def diagonalize(A):\r\n",
    "    \"\"\"\r\n",
    "    Diagonalizes the input matrix A\r\n",
    "\r\n",
    "    Arguments:\r\n",
    "    A: A two dimensional Numpy array which is guaranteed to be diagonalizable\r\n",
    "\r\n",
    "    Returns:\r\n",
    "    S, D, S_inv: As explained above\r\n",
    "    \"\"\"\r\n",
    "\r\n",
    "    ### BEGIN SOLUTION\r\n",
    "\r\n",
    "    # Retrieve the number of rows in A\r\n",
    "    n = 0\r\n",
    "\r\n",
    "    # Get the eigenvalues and eigenvectors of A\r\n",
    "    eig_vals, S = None, None\r\n",
    "\r\n",
    "    # Start by initializing D to a matrix of zeros of the appropriate shape\r\n",
    "    D = None\r\n",
    "\r\n",
    "    # Set the diagonal element of D to be the eigenvalues\r\n",
    "    for i in range(n):\r\n",
    "        pass\r\n",
    "\r\n",
    "    # Compute the inverse of S\r\n",
    "    S_inv = None\r\n",
    "\r\n",
    "    ### END SOLUTION\r\n",
    "\r\n",
    "    return S, D, S_inv"
   ],
   "outputs": [],
   "metadata": {}
  },
  {
   "cell_type": "code",
   "execution_count": null,
   "source": [
    "A = np.array([[1, 5],\r\n",
    "              [2, 4]])\r\n",
    "S_exp = np.array([[-0.92847669, -0.70710678],\r\n",
    "                  [ 0.37139068, -0.70710678]])\r\n",
    "D_exp = np.array([[-1, 0],\r\n",
    "                  [0, 6]])\r\n",
    "S_inv_exp = np.array([[-0.76930926,  0.76930926],\r\n",
    "                      [-0.40406102, -1.01015254]])\r\n",
    "\r\n",
    "\r\n",
    "S, D, S_inv = diagonalize(A)\r\n",
    "np.testing.assert_allclose(S_exp, S, rtol=1e-5, atol=1e-10)\r\n",
    "np.testing.assert_allclose(D_exp, D, rtol=1e-5, atol=1e-10)\r\n",
    "np.testing.assert_allclose(S_inv_exp, S_inv, rtol=1e-5, atol=1e-10)\r\n",
    "\r\n",
    "A = np.array([[4, -9, 6, 12],\r\n",
    "              [0, -1, 4, 6],\r\n",
    "              [2, -11, 8, 16],\r\n",
    "              [-1, 3, 0, -1]])\r\n",
    "S_exp = np.array([[ 5.00000000e-01, -8.01783726e-01,  9.04534034e-01,  3.77964473e-01],\r\n",
    "                  [ 5.00000000e-01, -5.34522484e-01,  3.01511345e-01,  7.55928946e-01],\r\n",
    "                  [-5.00000000e-01,  1.98636631e-14,  3.01511345e-01,  3.77964473e-01],\r\n",
    "                  [ 5.00000000e-01, -2.67261242e-01, -5.03145109e-15,  3.77964473e-01]])\r\n",
    "D_exp = np.array([[1, 0, 0, 0],\r\n",
    "                  [0, 2, 0, 0],\r\n",
    "                  [0, 0, 3, 0],\r\n",
    "                  [0, 0, 0, 4]])\r\n",
    "S_inv_exp = np.array([[ 2.00000000e+00, -1.00000000e+01,  4.00000000e+00,  1.40000000e+01],\r\n",
    "                      [ 3.74165739e+00, -2.24499443e+01,  1.12249722e+01,  2.99332591e+01],\r\n",
    "                      [ 3.31662479e+00, -1.32664992e+01,  6.63324958e+00,  1.65831240e+01],\r\n",
    "                      [ 2.74154909e-15, -2.64575131e+00,  2.64575131e+00,  5.29150262e+00]])\r\n",
    "\r\n",
    "S, D, S_inv = diagonalize(A)\r\n",
    "np.testing.assert_allclose(S_exp, S, rtol=1e-5, atol=1e-10)\r\n",
    "np.testing.assert_allclose(D_exp, D, rtol=1e-5, atol=1e-10)\r\n",
    "np.testing.assert_allclose(S_inv_exp, S_inv, rtol=1e-5, atol=1e-10)\r\n",
    "\r\n",
    "print(\"All tests passed!\")"
   ],
   "outputs": [],
   "metadata": {}
  },
  {
   "cell_type": "markdown",
   "source": [
    "Lastly, you will implement a function to carry out polynomial multiplication. Implementing this would require the application of multiple concepts that you have learned till now."
   ],
   "metadata": {}
  },
  {
   "cell_type": "markdown",
   "source": [
    "### Polynomial Multiplication (Challenge)"
   ],
   "metadata": {}
  },
  {
   "cell_type": "markdown",
   "source": [
    "You can challenge yourself by trying to implement this function. It is a good opportunity to practice the concepts introduced in this notebook. Feel free to skip to the next section if you want.\r\n",
    "\r\n",
    "In this function, you shall be implementing polynomial multiplication. You will be given two one dimensional numpy arrays $A$ and $B$, the coefficients of the two polynomials, where $a_i$ is the coefficient of $x^i$ in $A$. You must calculate the coefficients of $A \\cdot B$.\r\n",
    "\r\n",
    "More formally, if $C$ is the resultant one dimensional array, then $$c_i = \\sum_{j+k=i}^{} a_j*b_k$$\r\n",
    "\r\n",
    "There are multiple ways to do this, and your implementation may require you to use functions which we have not introduced to you. If that is the case, we encourage you to look at the [documentation](https://numpy.org/doc/stable/index.html).\r\n",
    "\r\n",
    "Finally, try to implement this function using only a single for loop over $i$, and try to implement the summation using only inbuilt functions of Numpy. This will lead to much faster code, thanks to vectorization.\r\n",
    "\r\n",
    "We shall not guide you through this function by as much as we did with the others.\r\n",
    "\r\n",
    "Additional hints:\r\n",
    "- $A$ and $B$ might be of different sizes. Depending on your implementation, this might have an effect. Pad the end of the smaller array with zeros so that $A$ and $B$ have the same size. You might want to take a look at [np.pad()](https://numpy.org/doc/stable/reference/generated/numpy.pad.html).\r\n",
    "- For a fixed $i$, try to see how $j$ and $k$ vary and which elements of $A$ and $B$ can be multiplied together. Does the resultant expression seem similar? Maybe the dot product of two slices?\r\n",
    "- You can use [np.flip()](https://numpy.org/doc/stable/reference/generated/numpy.flip.html) to reverse a Numpy array.\r\n",
    "- Make sure that your answer does not have any zeros at the end. Try to find a function in Numpy which does that for you.\r\n",
    "\r\n",
    "In case you are curious, there are faster ways to implement polynomial multiplication. If you are interested and feel (very) confident about your math and algorithmic skills, take a look at [FFT](https://cp-algorithms.com/algebra/fft.html)."
   ],
   "metadata": {}
  },
  {
   "cell_type": "code",
   "execution_count": null,
   "source": [
    "def multiply(A, B):\r\n",
    "    \"\"\"\r\n",
    "    Multiplies two polynomials\r\n",
    "\r\n",
    "    Arguments:\r\n",
    "    A: Coefficients of the first polynomial\r\n",
    "    B: Coefficients of the second polynomial\r\n",
    "\r\n",
    "    Returns:\r\n",
    "    C: The coefficients of A*B\r\n",
    "    \"\"\"\r\n",
    "\r\n",
    "    ### BEGIN SOLUTION\r\n",
    "\r\n",
    "    # Find the coefficients of both the polynomials\r\n",
    "    na = None\r\n",
    "    nb = None\r\n",
    "\r\n",
    "    # Pad the smaller array with 0s\r\n",
    "    if False:\r\n",
    "        pass\r\n",
    "    else:\r\n",
    "        pass\r\n",
    "\r\n",
    "    # Initialize the output array with 0s\r\n",
    "    C = None\r\n",
    "\r\n",
    "    # Perform the multiplication\r\n",
    "    # You might want to break the loop over i into two separate phases\r\n",
    "    pass\r\n",
    "\r\n",
    "    # Remove any extra 0s from the back of C\r\n",
    "    pass\r\n",
    "\r\n",
    "    ### END SOLUTION\r\n",
    "\r\n",
    "    return C"
   ],
   "outputs": [],
   "metadata": {}
  },
  {
   "cell_type": "code",
   "execution_count": null,
   "source": [
    "A = np.array([1, 2])\r\n",
    "B = np.array([3, 4])\r\n",
    "C_exp = np.array([3, 10, 8])\r\n",
    "np.testing.assert_allclose(multiply(A, B), C_exp, rtol=1e-5, atol=1e-10)\r\n",
    "\r\n",
    "A = np.array([5, 6])\r\n",
    "B = np.array([1, 3, 5, 9])\r\n",
    "C_exp = np.array([5, 21, 43, 75, 54])\r\n",
    "np.testing.assert_allclose(multiply(A, B), C_exp, rtol=1e-5, atol=1e-10)\r\n",
    "np.testing.assert_allclose(multiply(B, A), C_exp, rtol=1e-5, atol=1e-10)\r\n",
    "\r\n",
    "print(\"All tests passed!\")"
   ],
   "outputs": [],
   "metadata": {}
  },
  {
   "cell_type": "markdown",
   "source": [
    "If you could successfully implement this function using a single for loop, well done!"
   ],
   "metadata": {}
  },
  {
   "cell_type": "markdown",
   "source": [
    "# Introduction to Assert Statements and Testing"
   ],
   "metadata": {}
  },
  {
   "cell_type": "markdown",
   "source": [
    "An [assert](w3schools.com/python/ref_keyword_assert.asp) statement lets you check if a condition in your program evaluates to true.\r\n",
    "\r\n",
    "If the condition does evaluate to true, then nothing happens and the program execution continues normally. However, if it evaluates to false, then the program execution is immediately terminated, an error is raised and an error message is printed."
   ],
   "metadata": {}
  },
  {
   "cell_type": "code",
   "execution_count": null,
   "source": [
    "# An assert statement where condition evaluates to true\r\n",
    "x = 5\r\n",
    "assert x == 5"
   ],
   "outputs": [],
   "metadata": {}
  },
  {
   "cell_type": "markdown",
   "source": [
    "Since the condition evaluates to true, nothing happens."
   ],
   "metadata": {}
  },
  {
   "cell_type": "code",
   "execution_count": null,
   "source": [
    "# An assert statement where the condition evaluates to false\r\n",
    "x = 5\r\n",
    "assert x == 4"
   ],
   "outputs": [],
   "metadata": {}
  },
  {
   "cell_type": "markdown",
   "source": [
    "This time, since the assert statement evaluates to false, an error is thrown and the line where the assert statement failed is printed to the standard output.\r\n",
    "\r\n",
    "You can also print a message which further explains what error took place."
   ],
   "metadata": {}
  },
  {
   "cell_type": "code",
   "execution_count": null,
   "source": [
    "# An asseert statement with an error message\r\n",
    "x = 5\r\n",
    "assert x == 4, \"x does not store the intended value\""
   ],
   "outputs": [],
   "metadata": {}
  },
  {
   "cell_type": "markdown",
   "source": [
    "Asserts are a very powerful way to find bugs in your code. Do not hesitate to use these statements in the functions you write to assist you in debugging them. Later, we shall also be using assert statements sometimes to test the functions that you shall write in the later labs.\r\n",
    "\r\n",
    "Let us see an example where using assert statements helps us spot bugs in our code."
   ],
   "metadata": {}
  },
  {
   "cell_type": "code",
   "execution_count": null,
   "source": [
    "def test_assert():\r\n",
    "    \"\"\"\r\n",
    "    This function demonstrates the use of assert statements in debugging\r\n",
    "    \"\"\"\r\n",
    "\r\n",
    "    A = np.arange(5)\r\n",
    "    s = 0\r\n",
    "\r\n",
    "    # We shall first add all elements of A to s\r\n",
    "    for i in range(A.shape[0]):\r\n",
    "        s += A[i]\r\n",
    "\r\n",
    "    # We shall now subtract all the elements of A in the reverse order\r\n",
    "    # Unfortunately, we have a bug\r\n",
    "    for i in range(A.shape[0] - 1, 1, -1):\r\n",
    "        s -= A[i]\r\n",
    "\r\n",
    "    # Quite certainly, s must be equal to 0 at this point\r\n",
    "    # Had our implementation been correct, this assert should pass\r\n",
    "    assert s == 0\r\n",
    "\r\n",
    "test_assert()"
   ],
   "outputs": [],
   "metadata": {}
  },
  {
   "cell_type": "markdown",
   "source": [
    "Can you find the bug in the code and fix it? Have a look at the documentation of [range()](https://docs.python.org/3/library/stdtypes.html#typesseq-range)."
   ],
   "metadata": {}
  },
  {
   "cell_type": "markdown",
   "source": [
    "## The Numpy Testing Module"
   ],
   "metadata": {}
  },
  {
   "cell_type": "markdown",
   "source": [
    "Numpy has a very useful function called [np.testing.assert_allclose()](https://numpy.org/doc/stable/reference/generated/numpy.testing.assert_allclose.html) which allows us to test our functions.\r\n",
    "\r\n",
    "The function accepts two numbers or two Numpy arrays and checks them for equality. Note that you cannot compare floating point numbers using the `==` operator as you have to account for a margin of error which can be caused due to rounding. This function allows you to customize the error margin based on your needs.\r\n",
    "\r\n",
    "We highly advice you to read the documentation of this function."
   ],
   "metadata": {}
  },
  {
   "cell_type": "markdown",
   "source": [
    "The function takes two compulsory arguments, the first is the array which you want to test, and the second is the array which you want to test the array against. You can also configure the tolerance level if you wish.\r\n",
    "\r\n",
    "You can see examples of how this function is used earlier in the notebook."
   ],
   "metadata": {}
  },
  {
   "cell_type": "markdown",
   "source": [
    "In the next code block, we have written a function which tries to compute the inverse of a 2 by 2 matrix. However, the function is incorrect."
   ],
   "metadata": {}
  },
  {
   "cell_type": "code",
   "execution_count": null,
   "source": [
    "def inverse(A):\r\n",
    "    \"\"\"\r\n",
    "    Computes (incorrectly) the inverse of A\r\n",
    "\r\n",
    "    A must have shape (2, 2)\r\n",
    "    \"\"\"\r\n",
    "\r\n",
    "    return np.array([[A[1, 1], -A[0, 1]],\r\n",
    "                     [-A[1, 0], A[0, 0]]])"
   ],
   "outputs": [],
   "metadata": {}
  },
  {
   "cell_type": "markdown",
   "source": [
    "We have written a test for this function but it unfortunately passes. Can you write a test for this function which fails? Then, can you modify the function so that it is now correct and passes the test that you wrote?"
   ],
   "metadata": {}
  },
  {
   "cell_type": "code",
   "execution_count": null,
   "source": [
    "A = np.array([[3, 5],\r\n",
    "              [1, 2]])\r\n",
    "A_exp = np.array([[2, -5],\r\n",
    "                  [-1, 3]])\r\n",
    "np.testing.assert_allclose(inverse(A), A_exp, rtol=1e-5)\r\n",
    "np.testing.assert_allclose(inverse(A) @ A, np.eye(2), rtol=1e-5, atol=1e-10)\r\n",
    "\r\n",
    "# Add another test here"
   ],
   "outputs": [],
   "metadata": {}
  },
  {
   "cell_type": "markdown",
   "source": [
    "# Debugging Your Code"
   ],
   "metadata": {}
  },
  {
   "cell_type": "markdown",
   "source": [
    "While you are working through the rest of the labs of this course, you shall come across many situations where your code shall not work correctly. You are not alone if this happens to you. Debugging your code can be a difficult and daunting task, so in this last section, we shall give you some practical guidelines to assist you in debugging your code."
   ],
   "metadata": {}
  },
  {
   "cell_type": "markdown",
   "source": [
    "## Dimension Errors in Matrix Multiplication"
   ],
   "metadata": {}
  },
  {
   "cell_type": "markdown",
   "source": [
    "This is one of the most frequent errors that you shall face. Let us first see the error message that Numpy prints if you try to multiply two matrices of incompatible dimensions."
   ],
   "metadata": {}
  },
  {
   "cell_type": "code",
   "execution_count": null,
   "source": [
    "A = np.zeros((3, 2))\r\n",
    "B = np.zeros((4, 5))\r\n",
    "print(A @ B)"
   ],
   "outputs": [],
   "metadata": {}
  },
  {
   "cell_type": "markdown",
   "source": [
    "That was a mouthful! However, in this course, we shall only be performing operations on arrays that have atmost a dimension of 2, which considerably simplifies things.\r\n",
    "\r\n",
    "The only important line in the error message is: `size 4 is different from 2`. This says that the 0th dimension of $B$ is 4 whereas the 1th dimension of $A$ is 2, and hence they are incompatible for matrix multiplication.\r\n",
    "\r\n",
    "One way to debug this is to print the dimensions of all the matrices before and after each matrix multiplication and track them, because a previous error which unfortunately passed dimension checks might be causing the problems here."
   ],
   "metadata": {}
  },
  {
   "cell_type": "markdown",
   "source": [
    "Errors can also take place when you try to multiply two one dimensional arrays together or try to multiply a one dimensional array with a two dimensional array.\r\n",
    "\r\n",
    "We would advice you to use [np.outer()](https://numpy.org/doc/stable/reference/generated/numpy.outer.html) and [np.inner()](https://numpy.org/doc/stable/reference/generated/numpy.outer.html) when computing the dot product of 1D arrays. If $X$ is a vector (represented as a 1D array in this course), then `np.inner(X, X)` calculates $X^T \\cdot X$ (the regular dot product) and `np.outer(X, X)` computes $X \\cdot X^T$.\r\n",
    "\r\n",
    "If you are performing matrix multiplication between a 2D array and a 1D array, we would advise you to first reshape the 1D array into a 2D array of shape $(d, 1)$."
   ],
   "metadata": {}
  },
  {
   "cell_type": "markdown",
   "source": [
    "### Practicing Code Debugging"
   ],
   "metadata": {}
  },
  {
   "cell_type": "markdown",
   "source": [
    "In this question, we were trying to find the sum of the maximum element of each row in a 2D array, but we have unfortunately made a bug. Can you fix it so that our tests pass?"
   ],
   "metadata": {}
  },
  {
   "cell_type": "code",
   "execution_count": null,
   "source": [
    "def sum_of_max(A):\r\n",
    "    \"\"\"\r\n",
    "    Computes the sum of the maximum element of each row of A\r\n",
    "\r\n",
    "    A must be a 2D Numpy array\r\n",
    "    \"\"\"\r\n",
    "\r\n",
    "    return np.sum(np.max(A, axis=0))"
   ],
   "outputs": [],
   "metadata": {}
  },
  {
   "cell_type": "code",
   "execution_count": null,
   "source": [
    "A = np.array([[1, 2],\r\n",
    "              [3, 4]])\r\n",
    "np.testing.assert_allclose(sum_of_max(A), 6)\r\n",
    "\r\n",
    "A = np.array([[24, 69, 83],\r\n",
    "              [74, 14, 27]])\r\n",
    "np.testing.assert_allclose(sum_of_max(A), 157)"
   ],
   "outputs": [],
   "metadata": {}
  },
  {
   "cell_type": "markdown",
   "source": [
    "Congratulations on making it to the end of this really long notebook! Now you are in a good place to proceed with the remaining labs of this course."
   ],
   "metadata": {}
  }
 ],
 "metadata": {
  "orig_nbformat": 4,
  "language_info": {
   "name": "python",
   "version": "3.8.10",
   "mimetype": "text/x-python",
   "codemirror_mode": {
    "name": "ipython",
    "version": 3
   },
   "pygments_lexer": "ipython3",
   "nbconvert_exporter": "python",
   "file_extension": ".py"
  },
  "kernelspec": {
   "name": "python3",
   "display_name": "Python 3.8.10 64-bit ('coursera': conda)"
  },
  "interpreter": {
   "hash": "fa15421863e696996c586a7125639c86e606c31109b5cdd4c487ad3c1cbbc756"
  }
 },
 "nbformat": 4,
 "nbformat_minor": 2
}