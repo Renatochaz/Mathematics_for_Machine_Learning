{
 "cells": [
  {
   "cell_type": "markdown",
   "metadata": {},
   "source": [
    "# Distances and Angles between Images\r\n",
    "\r\n",
    "We are going to compute distances and angles between images."
   ]
  },
  {
   "cell_type": "markdown",
   "metadata": {},
   "source": [
    "## Learning objectives\r\n",
    "By the end of this notebook, you will learn to \r\n",
    "\r\n",
    "1. Write programs to compute distance.\r\n",
    "2. Write programs to compute angle.\r\n",
    "\r\n",
    "\"distance\" and \"angle\" are useful beyond their usual interpretation. They are useful for describing __similarity__ between objects. You will use the functions you wrote to compare MNIST digits."
   ]
  },
  {
   "cell_type": "code",
   "execution_count": null,
   "metadata": {},
   "outputs": [],
   "source": [
    "# PACKAGE: DO NOT EDIT THIS CELL\r\n",
    "import numpy as np\r\n",
    "import scipy"
   ]
  },
  {
   "cell_type": "code",
   "execution_count": null,
   "metadata": {},
   "outputs": [],
   "source": [
    "import matplotlib as mpl\r\n",
    "import matplotlib.pyplot as plt\r\n",
    "import sklearn\r\n",
    "from ipywidgets import interact\r\n",
    "from load_data import load_mnist\r\n",
    "\r\n",
    "# Plot figures so that they can be shown in the notebook\r\n",
    "%matplotlib inline\r\n",
    "%config InlineBackend.figure_format = 'svg'"
   ]
  },
  {
   "cell_type": "markdown",
   "metadata": {},
   "source": [
    "The next cell loads the MNIST digits dataset."
   ]
  },
  {
   "cell_type": "code",
   "execution_count": null,
   "metadata": {},
   "outputs": [],
   "source": [
    "from load_data import load_mnist\r\n",
    "MNIST = load_mnist('./')\r\n",
    "images = MNIST['data'].astype(np.double)\r\n",
    "labels = MNIST['target'].astype(np.int)\r\n"
   ]
  },
  {
   "cell_type": "markdown",
   "metadata": {},
   "source": [
    "For this assignment, you need to implement the two functions (`distance` and `angle`) in the cell below which compute the distance and angle between two vectors."
   ]
  },
  {
   "cell_type": "markdown",
   "metadata": {},
   "source": [
    "### Distances"
   ]
  },
  {
   "cell_type": "code",
   "execution_count": null,
   "metadata": {
    "nbgrader": {
     "grade": false,
     "grade_id": "cell-ab1ea0d22c71da57",
     "locked": false,
     "schema_version": 3,
     "solution": true,
     "task": false
    }
   },
   "outputs": [],
   "source": [
    "# GRADED FUNCTION: DO NOT EDIT THIS LINE\r\n",
    "\r\n",
    "def distance(x0, x1):\r\n",
    "    \"\"\"Compute distance between two vectors x0, x1 using the dot product.\r\n",
    "    \r\n",
    "    Args:\r\n",
    "    x0, x1: ndarray of shape (D,) to compute distance between. \r\n",
    "    \r\n",
    "    Returns:\r\n",
    "    the distance between the x0 and x1.\r\n",
    "    \"\"\"\r\n",
    "    # YOUR CODE HERE\n",
    "    ### Uncomment and modify the code below\r\n",
    "#     distance = -1 # <-- EDIT THIS to compute the distance between x0 and x1\r\n",
    "#     return distance"
   ]
  },
  {
   "cell_type": "code",
   "execution_count": null,
   "metadata": {
    "nbgrader": {
     "grade": true,
     "grade_id": "cell-8703a5cd991531b3",
     "locked": true,
     "points": 0,
     "schema_version": 3,
     "solution": false,
     "task": false
    }
   },
   "outputs": [],
   "source": [
    "# Some sanity checks, you may want to have more interesting test cases to test your implementation\r\n",
    "a = np.array([1, 0])\r\n",
    "b = np.array([0, 1])\r\n",
    "np.testing.assert_allclose(distance(a, b), np.sqrt(2), rtol=1e-7)\r\n",
    "\r\n",
    "a = np.array([1, 0])\r\n",
    "b = np.array([1., np.sqrt(3)])\r\n",
    "np.testing.assert_allclose(distance(a, b), np.sqrt(3), rtol=1e-7)"
   ]
  },
  {
   "cell_type": "code",
   "execution_count": null,
   "metadata": {
    "nbgrader": {
     "grade": true,
     "grade_id": "cell-2a373856dd144857",
     "locked": true,
     "points": 3.5,
     "schema_version": 3,
     "solution": false,
     "task": false
    }
   },
   "outputs": [],
   "source": [
    "# Some hidden tests below\r\n",
    "### ...\r"
   ]
  },
  {
   "cell_type": "markdown",
   "metadata": {},
   "source": [
    "### Angles"
   ]
  },
  {
   "cell_type": "code",
   "execution_count": null,
   "metadata": {
    "nbgrader": {
     "grade": false,
     "grade_id": "cell-36e92a60e9d985f5",
     "locked": false,
     "schema_version": 3,
     "solution": true,
     "task": false
    }
   },
   "outputs": [],
   "source": [
    "# GRADED FUNCTION: DO NOT EDIT THIS LINE\r\n",
    "\r\n",
    "def angle(x0, x1):\r\n",
    "    \"\"\"Compute the angle between two vectors x0, x1 using the dot product.\r\n",
    "    \r\n",
    "    Args:\r\n",
    "    x0, x1: ndarray of shape (D,) to compute the angle between. \r\n",
    "    \r\n",
    "    Returns:\r\n",
    "    the angle between the x0 and x1.\r\n",
    "    \"\"\"\r\n",
    "    # YOUR CODE HERE\n",
    "    ### Uncomment and modify the code below\r\n",
    "#     angle = -1 # <-- EDIT THIS to compute angle between x0 and x1\r\n",
    "#     return angle"
   ]
  },
  {
   "cell_type": "code",
   "execution_count": null,
   "metadata": {
    "nbgrader": {
     "grade": true,
     "grade_id": "cell-f1275e973c43cd3c",
     "locked": true,
     "points": 0,
     "schema_version": 3,
     "solution": false,
     "task": false
    }
   },
   "outputs": [],
   "source": [
    "# Some sanity checks, you may want to have more interesting test cases to test your implementation\r\n",
    "a = np.array([1, 0])\r\n",
    "b = np.array([0, 1])\r\n",
    "np.testing.assert_allclose(angle(a,b) / (np.pi * 2) * 360., 90)\r\n",
    "\r\n",
    "a = np.array([1, 0])\r\n",
    "b = np.array([1., np.sqrt(3)])\r\n",
    "np.testing.assert_allclose(angle(a,b) / (np.pi * 2) * 360., 60., rtol=1e-4)"
   ]
  },
  {
   "cell_type": "code",
   "execution_count": null,
   "metadata": {
    "nbgrader": {
     "grade": true,
     "grade_id": "cell-734f534aedb9d913",
     "locked": true,
     "points": 0,
     "schema_version": 3,
     "solution": false,
     "task": false
    }
   },
   "outputs": [],
   "source": [
    "# Some hidden tests below\r"
   ]
  },
  {
   "cell_type": "markdown",
   "metadata": {},
   "source": [
    "We have created some helper functions for you to visualize vectors in the cells below. You do not need to modify them."
   ]
  },
  {
   "cell_type": "code",
   "execution_count": null,
   "metadata": {},
   "outputs": [],
   "source": [
    "def plot_vector(v, w):\r\n",
    "    \"\"\"Plot two 2D vectors.\"\"\"\r\n",
    "    fig = plt.figure(figsize=(4,4))\r\n",
    "    ax = fig.gca()\r\n",
    "    plt.xlim([-2, 2])\r\n",
    "    plt.ylim([-2, 2])\r\n",
    "    plt.grid()\r\n",
    "    ax.arrow(0, 0, v[0], v[1], head_width=0.05, head_length=0.1, \r\n",
    "             length_includes_head=True, linewidth=2, color='r');\r\n",
    "    ax.arrow(0, 0, w[0], w[1], head_width=0.05, head_length=0.1, \r\n",
    "             length_includes_head=True, linewidth=2, color='r');"
   ]
  },
  {
   "cell_type": "code",
   "execution_count": null,
   "metadata": {},
   "outputs": [],
   "source": [
    "a = np.array([1, 0])\r\n",
    "b = np.array([0, 1])\r\n",
    "plot_vector(b, a)"
   ]
  },
  {
   "cell_type": "code",
   "execution_count": null,
   "metadata": {
    "nbgrader": {
     "grade": true,
     "grade_id": "cell-5cdd8c9ac0205d00",
     "locked": true,
     "points": 0,
     "schema_version": 3,
     "solution": false,
     "task": false
    }
   },
   "outputs": [],
   "source": [
    "# Tests symmetry\r\n",
    "random = np.random.RandomState(42)\r\n",
    "x = random.randn(3)\r\n",
    "y = random.randn(3)\r\n",
    "for _ in range(10):\r\n",
    "    np.testing.assert_allclose(distance(x,y), distance(y,x))\r\n",
    "    np.testing.assert_allclose(angle(x,y), angle(y,x), rtol=1e-4)"
   ]
  },
  {
   "cell_type": "markdown",
   "metadata": {},
   "source": [
    "The next cell shows some digits from the dataset."
   ]
  },
  {
   "cell_type": "code",
   "execution_count": null,
   "metadata": {},
   "outputs": [],
   "source": [
    "plt.imshow(images[labels==0].reshape(-1, 28, 28)[0], cmap='gray');"
   ]
  },
  {
   "cell_type": "markdown",
   "metadata": {},
   "source": [
    "But we have the following questions:\r\n",
    "\r\n",
    "1. What does it mean for two digits in the MNIST dataset to be _different_ by our distance function? \r\n",
    "2. Furthermore, how are different classes of digits different for MNIST digits? Let's find out!"
   ]
  },
  {
   "cell_type": "markdown",
   "metadata": {},
   "source": [
    "For the first question, we can see just how the distance between digits compare among all distances for \r\n",
    "the first 500 digits. The next cell computes pairwise distances between images."
   ]
  },
  {
   "cell_type": "code",
   "execution_count": null,
   "metadata": {},
   "outputs": [],
   "source": [
    "distances = []\r\n",
    "for i in range(len(images[:500])):\r\n",
    "    for j in range(len(images[:500])):\r\n",
    "        distances.append(distance(images[i], images[j]))"
   ]
  },
  {
   "cell_type": "code",
   "execution_count": null,
   "metadata": {},
   "outputs": [],
   "source": [
    "@interact(first=(0, 499), second=(0, 499), continuous_update=False)\r\n",
    "def show_img(first, second):\r\n",
    "    plt.figure(figsize=(8,4))\r\n",
    "    f = images[first].reshape(28, 28)\r\n",
    "    s = images[second].reshape(28, 28)\r\n",
    "    \r\n",
    "    ax0 = plt.subplot2grid((2, 2), (0, 0))\r\n",
    "    ax1 = plt.subplot2grid((2, 2), (1, 0))\r\n",
    "    ax2 = plt.subplot2grid((2, 2), (0, 1), rowspan=2)\r\n",
    "    \r\n",
    "    #plt.imshow(np.hstack([f,s]), cmap='gray')\r\n",
    "    ax0.imshow(f, cmap='gray')\r\n",
    "    ax1.imshow(s, cmap='gray')\r\n",
    "    ax2.hist(np.array(distances), bins=50)\r\n",
    "    d = distance(f.ravel(), s.ravel())\r\n",
    "    ax2.axvline(x=d, ymin=0, ymax=40000, color='C4', linewidth=4)\r\n",
    "    ax2.text(0, 16000, \"Distance is {:.2f}\".format(d), size=12)\r\n",
    "    ax2.set(xlabel='distance', ylabel='number of images')\r\n",
    "    plt.show()"
   ]
  },
  {
   "cell_type": "markdown",
   "metadata": {},
   "source": [
    "Next we will find the index of the most similar image to the image at index 0.\r\n",
    "We will do this by writing some code in another cell.\r\n",
    "\r\n",
    "Write some code in this scratch cell below to find out the most similar image"
   ]
  },
  {
   "cell_type": "code",
   "execution_count": null,
   "metadata": {},
   "outputs": [],
   "source": [
    "### Scratch cell for you to compute the index of the most similar image\r\n",
    "distances = np.zeros((500))\r\n",
    "for i in range(500):\r\n",
    "    # Write some code to compute the distance between 0th and ith image.\r\n",
    "    pass\r\n",
    "print(np.argmin(np.array(distances)[1:]) + 1)  # Add one since we excluded the 0th image."
   ]
  },
  {
   "cell_type": "markdown",
   "metadata": {},
   "source": [
    "Then copy the solution you found (an index value) and replace the -1 in the function `most_similar_image` with this value. Don't perform any computation in the next cell that accesses the dataset as the autograder will not have access to the dataset and will raise an error."
   ]
  },
  {
   "cell_type": "code",
   "execution_count": null,
   "metadata": {
    "nbgrader": {
     "grade": false,
     "grade_id": "cell-471c5007517e5837",
     "locked": false,
     "schema_version": 3,
     "solution": true,
     "task": false
    }
   },
   "outputs": [],
   "source": [
    "# GRADED FUNCTION: DO NOT EDIT THIS LINE\r\n",
    "\r\n",
    "def most_similar_image():\r\n",
    "    \"\"\"Find the index of the digit, among all MNIST digits (excluding the first),\r\n",
    "       that is the closest to the first image in the dataset, your answer should be a single integer\r\n",
    "    \"\"\"\r\n",
    "    # YOUR CODE HERE\n",
    "    idx = -1\r\n",
    "    return idx"
   ]
  },
  {
   "cell_type": "code",
   "execution_count": null,
   "metadata": {
    "nbgrader": {
     "grade": true,
     "grade_id": "cell-e7c7287db34c5c16",
     "locked": true,
     "points": 1,
     "schema_version": 3,
     "solution": false,
     "task": false
    }
   },
   "outputs": [],
   "source": [
    "### Some hidden tests below\r"
   ]
  },
  {
   "cell_type": "markdown",
   "metadata": {},
   "source": [
    "Let us similarly find the image which is at the farthest distance from the image at index 0. We shall then plot the images and visualize what it is for an image to be at a smaller distance or a larger distance from another image. Remember that distance in this case is a measure of pixel-wise similarity of two images. Two images which are at a small distance from one another are expected to have similar pixel intensity values."
   ]
  },
  {
   "cell_type": "code",
   "execution_count": null,
   "metadata": {},
   "outputs": [],
   "source": [
    "idx_min = np.argmin(np.array(distances)[1:]) + 1\r\n",
    "idx_max = np.argmax(np.array(distances)[1:]) + 1\r\n",
    "\r\n",
    "f, ax = plt.subplots(3, 1)\r\n",
    "ax[0].imshow(images[0].reshape(28, 28), cmap='gray')\r\n",
    "ax[0].set(title='Image at index 0')\r\n",
    "ax[1].imshow(images[idx_min].reshape(28, 28), cmap='gray')\r\n",
    "ax[1].set(title='Image at smallest distance')\r\n",
    "ax[2].imshow(images[idx_max].reshape(28, 28), cmap='gray')\r\n",
    "ax[2].set(title='Image at largest distance')\r\n",
    "plt.tight_layout()\r\n",
    "plt.show()"
   ]
  },
  {
   "cell_type": "markdown",
   "metadata": {},
   "source": [
    "Clearly, the first two images overlap more than the first and third image do."
   ]
  },
  {
   "cell_type": "markdown",
   "metadata": {},
   "source": [
    "For the second question, we can compute a `mean` image for each class of image, i.e. we compute mean image for digits of `1`, `2`, `3`,..., `9`, then we compute pairwise distance between them. We can organize the pairwise distances in a 2D plot, which would allow us to visualize the dissimilarity between images of different classes."
   ]
  },
  {
   "cell_type": "markdown",
   "metadata": {},
   "source": [
    "First we compute the mean for digits of each class."
   ]
  },
  {
   "cell_type": "code",
   "execution_count": null,
   "metadata": {},
   "outputs": [],
   "source": [
    "mean_images = {}\r\n",
    "for n in np.unique(labels):\r\n",
    "    mean_images[n] = np.mean(images[labels==n], axis=0)"
   ]
  },
  {
   "cell_type": "markdown",
   "metadata": {},
   "source": [
    "For each pair of classes, we compute the pairwise distance and \r\n",
    "store them into MD (mean distances). We store the angles between the mean digits in AG"
   ]
  },
  {
   "cell_type": "code",
   "execution_count": null,
   "metadata": {},
   "outputs": [],
   "source": [
    "MD = np.zeros((10, 10))\r\n",
    "AG = np.zeros((10, 10))\r\n",
    "for i in mean_images.keys():\r\n",
    "    for j in mean_images.keys():\r\n",
    "        MD[i, j] = distance(mean_images[i], mean_images[j])\r\n",
    "        AG[i, j] = angle(mean_images[i].ravel(), mean_images[j].ravel())"
   ]
  },
  {
   "cell_type": "markdown",
   "metadata": {},
   "source": [
    "Now we can visualize the distances! Here we put the pairwise distances. The colorbar shows how the distances map to color intensity. Which digits do you think are the most similar to one another and would have the least distance between them? Try to overlay a few handwritten digits on top of one another to answer this! Consider 4 and 9 or 1 and 0. Are there any other examples which make sense to you?\r\n",
    "\r\n",
    "Once you are ready, execute the code cell below to test your hypothesis."
   ]
  },
  {
   "cell_type": "code",
   "execution_count": null,
   "metadata": {},
   "outputs": [],
   "source": [
    "fig, ax = plt.subplots()\r\n",
    "grid = ax.imshow(MD, interpolation='nearest')\r\n",
    "ax.set(title='Distances between different classes of digits',\r\n",
    "       xticks=range(10), \r\n",
    "       xlabel='class of digits',\r\n",
    "       ylabel='class of digits',\r\n",
    "       yticks=range(10))\r\n",
    "fig.colorbar(grid)\r\n",
    "plt.show()"
   ]
  },
  {
   "cell_type": "markdown",
   "metadata": {},
   "source": [
    "Similarly for the angles."
   ]
  },
  {
   "cell_type": "code",
   "execution_count": null,
   "metadata": {},
   "outputs": [],
   "source": [
    "fig, ax = plt.subplots()\r\n",
    "AG = np.nan_to_num(AG)\r\n",
    "grid = ax.imshow(AG, interpolation='nearest')\r\n",
    "ax.set(title='Angles between different classes of digits',\r\n",
    "       xticks=range(10), \r\n",
    "       xlabel='class of digits',\r\n",
    "       ylabel='class of digits',\r\n",
    "       yticks=range(10))\r\n",
    "fig.colorbar(grid)\r\n",
    "plt.show();"
   ]
  }
 ],
 "metadata": {
  "coursera": {
   "course_slug": "mathematics-machine-learning-pca",
   "graded_item_id": "kGOjp",
   "launcher_item_id": "Myc4L"
  },
  "interpreter": {
   "hash": "fa15421863e696996c586a7125639c86e606c31109b5cdd4c487ad3c1cbbc756"
  },
  "kernelspec": {
   "display_name": "Python 3.8.10 64-bit ('coursera': conda)",
   "name": "python3"
  },
  "language_info": {
   "codemirror_mode": {
    "name": "ipython",
    "version": 3
   },
   "file_extension": ".py",
   "mimetype": "text/x-python",
   "name": "python",
   "nbconvert_exporter": "python",
   "pygments_lexer": "ipython3",
   "version": "3.8.10"
  },
  "toc": {
   "base_numbering": 1,
   "nav_menu": {},
   "number_sections": true,
   "sideBar": true,
   "skip_h1_title": true,
   "title_cell": "Table of Contents",
   "title_sidebar": "Contents",
   "toc_cell": false,
   "toc_position": {},
   "toc_section_display": true,
   "toc_window_display": true
  }
 },
 "nbformat": 4,
 "nbformat_minor": 2
}
