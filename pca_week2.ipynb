{
 "cells": [
  {
   "cell_type": "markdown",
   "metadata": {},
   "source": [
    "# Dot product, distance and angle between vectors\n",
    "\n",
    "If x and y are two vectors, their dot product is:\n",
    "\n",
    "$x^ty = \\sum_{i=1}^n xiyi$\n",
    "\n",
    "The length of x is:\n",
    "\n",
    "$||x|| = \\sqrt{x^tx} = \\sqrt{\\sum_{i=1}^nx_i^2}$"
   ]
  },
  {
   "cell_type": "markdown",
   "metadata": {},
   "source": [
    "If we want the distance between x and y, we can just compute the length between the difference of those two vectors, like this:\n",
    "\n",
    "$d(x,y) = ||x - y|| = \\sqrt{(x-y)^t(x-y)}$\n",
    "\n",
    "and the angle between then is:\n",
    "\n",
    "$\\cos \\alpha = \\frac{x^ty}{||x|| ||y||}$"
   ]
  },
  {
   "cell_type": "markdown",
   "metadata": {},
   "source": [
    "# exercises\n",
    "# 2- \n",
    "Compute the angle (in rad) between $\\mathbf{x} = \\begin{bmatrix}3\\\\4\\end{bmatrix}$ and $\\mathbf{y} = \\begin{bmatrix}-1\\\\-1\\end{bmatrix}$ using the dot product."
   ]
  },
  {
   "cell_type": "markdown",
   "metadata": {},
   "source": [
    "$x^ty = \\begin{bmatrix}3 & 4\\end{bmatrix} \\begin{bmatrix}-1\\\\-1\\end{bmatrix} = 3 -4 = -7$"
   ]
  },
  {
   "cell_type": "markdown",
   "metadata": {},
   "source": [
    "$||x|| = \\sqrt{\\sum_{i=1}^nx_i^2} = \\sqrt{9 + 16} = 5$\n",
    "\n",
    "$||y|| = \\sqrt{\\sum_{i=1}^ny_i^2} = \\sqrt{1 + 1} = \\sqrt{2}$\n",
    "\n",
    "> $\\cos\\alpha = \\frac{-1}{5\\sqrt{2}} =  2.99 rad$ (note that we use arc cos to calculate the angle in radius)\n",
    "\n",
    "Unless i'm crazy, some times the exercise gave me the vector y: (1,-1), then the answer is 1.71"
   ]
  },
  {
   "cell_type": "markdown",
   "metadata": {},
   "source": [
    "# 3 -\n",
    "Compute the distance between $\\mathbf{x} = \\begin{bmatrix}3\\\\4\\end{bmatrix}$ and $\\mathbf{y} = \\begin{bmatrix}1\\\\1\\end{bmatrix}$\n",
    "\n",
    "\n",
    "$||x - y|| =|| \\begin{bmatrix}2\\\\3\\end{bmatrix}||$ = $ \\sqrt{\\begin{bmatrix}2&3\\end{bmatrix}\\begin{bmatrix}2\\\\3\\end{bmatrix}}$"
   ]
  },
  {
   "cell_type": "markdown",
   "metadata": {},
   "source": [
    "> => $\\sqrt{4 + 9} = \\sqrt{13} = 3.60$"
   ]
  },
  {
   "cell_type": "markdown",
   "metadata": {},
   "source": [
    "# Inner product\n",
    "\n",
    "A inner product is a generalization of the dot product which we can also express length and sizes of vectors. \n",
    "\n",
    "A inner product is a symmetric positive definite bilinear mapping. Let's look on what this is?\n",
    "\n",
    "If we have two vectors in a vector space (V) , like this:\n",
    "\n",
    ">$x,y \\in V$ \n",
    "\n",
    "We take a mapping that takes two inputs from this vectors space: $<.,.> : VxV\\rightarrow \\mathbb{R}$"
   ]
  },
  {
   "cell_type": "markdown",
   "metadata": {},
   "source": [
    "And this function have the properties above. let us discuss what those means:\n",
    "\n",
    "> Bilinearity\n",
    "\n",
    "If we have three vectors: x,y,z and a scalar: $\\lambda$\n",
    "\n",
    "we can express linearity as: \n",
    "\n",
    "$<\\lambda x + z, y> = \\lambda <x,y> + <z,y>$\n",
    "This means that the first argument (x+z) is linear. But we need bilinearity, right? So lets us make another requirement for bilinearity:\n",
    "\n",
    "$<x, \\lambda y + z> = \\lambda (x,y) + <z,x>$\n",
    "\n",
    "> Positive definite\n",
    "\n",
    "The inner product of x with itself is equal or greater than 0, and its equal to 0 only if x is a 0 vectors:\n",
    "\n",
    "$<x,x> \\geq 0, <x,x> = 0 <=> x = 0$\n",
    "\n",
    "> Simmetry\n",
    "\n",
    "The inner product of <x,y> is equal to the inner product of <y,x> (order does not matter)"
   ]
  },
  {
   "cell_type": "markdown",
   "metadata": {},
   "source": [
    "Any symmetric positive definite matrice produces a inner product! Look at this example:\n",
    "\n",
    "If we have a symmetric positive definite matrice A: $\\begin{bmatrix} 2 & 1 \\\\ 1 & 2 \\end{bmatrix}$:\n",
    "\n",
    "$x^tAy = 2x_1y_1 + x_2y_1 + x_1y_2 + 2x_2y_2$ and this inner product is different from the dot product!"
   ]
  },
  {
   "cell_type": "markdown",
   "metadata": {},
   "source": [
    "Inner products: Lenghts and distances\n",
    "\n",
    "The length of a vector can be definied as: \n",
    "\n",
    "$||x|| = \\sqrt{<x,x>}$ (Note that the length is also called the norm of the vector)\n",
    "\n",
    "Let's look at an example of how to compute the inner product to find the length!\n",
    "\n",
    "To do this, first we need to define a inner product of x,y with a positive definite matrix:\n",
    "\n",
    "$<x,y> = x^t \\begin{bmatrix} 1 & -1/2 \\\\ -1/2 & 1 \\end{bmatrix}y$ and this operation gives us the following equation:\n",
    "\n",
    "$x_1y_1 -1/2(x_1x_2 + x_2y_1) + x_2y_2$ \n",
    "\n",
    "And now we need to compute the length of X with our formula : $||x|| = \\sqrt{<x,x>}$\n",
    "\n",
    "But how we find ||x|| do you ask? remember we are talking about symmetric matrices? we can get the equation for <x,x> if we subtstitute the y's in the equation above for x's (since the matrix is symmetric), so we get that :\n",
    "\n",
    "$<x,x> = x_1^2 -1/2(x_1x_2 + x_2x_1) + x_2^2$ and now:\n",
    "\n",
    "$||x|| = \\sqrt{x_1^2-x_1x_2+x_2^2}$\n",
    "\n",
    "if our vectors x is (1,1), that gives us:\n",
    "\n",
    "$||x|| = \\sqrt{1-1+1} = \\sqrt{1} = 1$ \n",
    "\n",
    "Note that the usual dot product ($x^ty$) would be equal to 2, so why the inner product gives us a different answer?"
   ]
  },
  {
   "cell_type": "markdown",
   "metadata": {},
   "source": [
    "Some properties of the inner product:\n",
    "\n",
    "$||\\lambda x|| = |\\lambda| ||x||$\n",
    "\n",
    "$||x + y|| \\leq ||x|| + ||y||$\n",
    "\n",
    "$|<x,y>| \\leq ||x||. ||y||$"
   ]
  },
  {
   "cell_type": "markdown",
   "metadata": {},
   "source": [
    "Let's look at the distance now!\n",
    "\n",
    "$d<x,y> = ||x - y|| = \\sqrt{<x-y>, <x-y>}$\n",
    "\n",
    "We get different answers here too from using the dot product! Did you find out why?\n",
    "\n",
    "That's because the dot product assume this same formula, but with a identity matrix multiplication: $x^tIy$, but our inner product uses any positive definite symmetric matrix: $x^tAy$"
   ]
  },
  {
   "cell_type": "markdown",
   "metadata": {},
   "source": [
    "# Angles and orthogonality with inner products\n",
    "\n",
    "If the inner product of two non-zero vectors is 0, they are orthogonal. \n",
    "\n",
    "Note that the you can have different inner products for the same vectors (using different matrices), this means that two vectors may be orthogonal in respect to some inner products, and may not be in respect to others.\n",
    "\n",
    "Two orthogonal vectos have nothing in common besides the origin.\n",
    "\n",
    "We can also find basis for the vector space that are orthogonal to each other: $<b_i,b_j> = 0$ for i different than j\n",
    "\n",
    "And if we also use the inner product to normalize those basis vectos to every $||b_i|| = 1$, we have a orthonormal basis."
   ]
  },
  {
   "cell_type": "code",
   "execution_count": null,
   "metadata": {},
   "outputs": [],
   "source": []
  }
 ],
 "metadata": {
  "kernelspec": {
   "display_name": "Python 3",
   "language": "python",
   "name": "python3"
  },
  "language_info": {
   "codemirror_mode": {
    "name": "ipython",
    "version": 3
   },
   "file_extension": ".py",
   "mimetype": "text/x-python",
   "name": "python",
   "nbconvert_exporter": "python",
   "pygments_lexer": "ipython3",
   "version": "3.7.4"
  }
 },
 "nbformat": 4,
 "nbformat_minor": 4
}
