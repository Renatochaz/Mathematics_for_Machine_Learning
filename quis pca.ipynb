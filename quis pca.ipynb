{
 "cells": [
  {
   "cell_type": "code",
   "execution_count": 1,
   "metadata": {},
   "outputs": [
    {
     "name": "stdout",
     "output_type": "stream",
     "text": [
      "Sudut antara vektor x dan y adalah: [[2.9996956]] radian\n"
     ]
    }
   ],
   "source": [
    "import numpy as np\n",
    "\n",
    "# Tentukan vektor x dan y\n",
    "x = np.array([[3], [4]])\n",
    "y = np.array([[-1], [-1]])\n",
    "\n",
    "# Hitung dot product dari vektor x dan y\n",
    "dot_product = np.dot(x.T, y)\n",
    "\n",
    "# Hitung magnitudo dari masing-masing vektor\n",
    "x_magnitudo = np.linalg.norm(x)\n",
    "y_magnitudo = np.linalg.norm(y)\n",
    "\n",
    "# Hitung sudut antara vektor x dan y\n",
    "theta = np.arccos(dot_product / (x_magnitudo * y_magnitudo))\n",
    "\n",
    "# Tampilkan hasil dalam radian\n",
    "print(\"Sudut antara vektor x dan y adalah:\", theta, \"radian\")"
   ]
  },
  {
   "cell_type": "code",
   "execution_count": 10,
   "metadata": {},
   "outputs": [
    {
     "name": "stdout",
     "output_type": "stream",
     "text": [
      "Sudut antara vektor x dan y adalah: [[nan]] radian\n"
     ]
    },
    {
     "name": "stderr",
     "output_type": "stream",
     "text": [
      "c:\\Users\\RIO BASTIAN\\AppData\\Local\\Programs\\Python\\Python37\\lib\\site-packages\\ipykernel_launcher.py:22: RuntimeWarning: invalid value encountered in arccos\n"
     ]
    }
   ],
   "source": [
    "import numpy as np\n",
    "\n",
    "# Tentukan vektor x dan y\n",
    "x = np.array([[0], [-1]])\n",
    "y = np.array([[1], [1]])\n",
    "\n",
    "# Tentukan matriks A\n",
    "A = np.array([[1, -1/2],\n",
    "              [-1/2, 5]])\n",
    "\n",
    "# Hitung nilai inner product antara vektor x dan y\n",
    "inner_product = np.dot(np.dot(x.T, A), y)\n",
    "\n",
    "# Hitung magnitudo dari vektor x dan y\n",
    "x_magnitudo = np.linalg.norm(x)\n",
    "y_magnitudo = np.linalg.norm(y)\n",
    "\n",
    "# Hitung nilai cosinus dari sudut antara vektor x dan y\n",
    "cos_theta = inner_product / (x_magnitudo * y_magnitudo)\n",
    "\n",
    "# Hitung nilai sudut antara vektor x dan y dalam radian\n",
    "theta = np.arccos(cos_theta)\n",
    "\n",
    "# Tampilkan hasil dalam radian\n",
    "print(\"Sudut antara vektor x dan y adalah:\", theta, \"radian\")"
   ]
  },
  {
   "cell_type": "code",
   "execution_count": 11,
   "metadata": {},
   "outputs": [
    {
     "name": "stdout",
     "output_type": "stream",
     "text": [
      "Sudut antara vektor x dan y adalah: [[nan]] radian\n"
     ]
    },
    {
     "name": "stderr",
     "output_type": "stream",
     "text": [
      "c:\\Users\\RIO BASTIAN\\AppData\\Local\\Programs\\Python\\Python37\\lib\\site-packages\\ipykernel_launcher.py:26: RuntimeWarning: invalid value encountered in arccos\n"
     ]
    }
   ],
   "source": [
    "import numpy as np\n",
    "\n",
    "# Tentukan vektor x dan y\n",
    "x = np.array([[0], [-1]])\n",
    "y = np.array([[1], [1]])\n",
    "\n",
    "# Tentukan matriks A\n",
    "A = np.array([[1, -1/2],\n",
    "              [-1/2, 5]])\n",
    "\n",
    "# Hitung nilai inner product antara vektor x dan y\n",
    "inner_product = np.dot(np.dot(x.T, A), y)\n",
    "\n",
    "# Hitung magnitudo dari vektor x dan y\n",
    "x_magnitudo = np.linalg.norm(x)\n",
    "y_magnitudo = np.linalg.norm(y)\n",
    "\n",
    "# Hitung nilai cosinus dari sudut antara vektor x dan y\n",
    "cos_theta = inner_product / (x_magnitudo * y_magnitudo)\n",
    "\n",
    "# Periksa validitas nilai cosinus\n",
    "if np.isclose(cos_theta, 1.0) or np.isclose(cos_theta, -1.0):\n",
    "    theta = 0.0\n",
    "else:\n",
    "    # Hitung nilai sudut antara vektor x dan y dalam radian\n",
    "    theta = np.arccos(cos_theta)\n",
    "\n",
    "# Tampilkan hasil dalam radian\n",
    "print(\"Sudut antara vektor x dan y adalah:\", theta, \"radian\")"
   ]
  },
  {
   "cell_type": "code",
   "execution_count": 12,
   "metadata": {},
   "outputs": [
    {
     "name": "stdout",
     "output_type": "stream",
     "text": [
      "Sudut antara vektor x dan y adalah: nan radian\n"
     ]
    },
    {
     "name": "stderr",
     "output_type": "stream",
     "text": [
      "c:\\Users\\RIO BASTIAN\\AppData\\Local\\Programs\\Python\\Python37\\lib\\site-packages\\ipykernel_launcher.py:18: RuntimeWarning: invalid value encountered in arccos\n"
     ]
    }
   ],
   "source": [
    "import numpy as np\n",
    "\n",
    "# Tentukan matriks A\n",
    "A = np.array([[1, -1/2],\n",
    "              [-1/2, 5]])\n",
    "\n",
    "# Tentukan vektor x dan y\n",
    "x = np.array([0, -1])\n",
    "y = np.array([1, 1])\n",
    "\n",
    "def find_angle(A, x, y):\n",
    "    \"\"\"Compute the angle\"\"\"\n",
    "    inner_prod = x.T @ A @ y\n",
    "    # Hitung nilai norm_x dan norm_y menggunakan np.linalg.norm()\n",
    "    norm_x = np.linalg.norm(x)\n",
    "    norm_y = np.linalg.norm(y)\n",
    "    alpha = inner_prod / (norm_x * norm_y)\n",
    "    angle = np.arccos(alpha)\n",
    "    return np.round(angle, 2) \n",
    "\n",
    "sudut = find_angle(A, x, y)\n",
    "print(\"Sudut antara vektor x dan y adalah:\", sudut, \"radian\")"
   ]
  },
  {
   "cell_type": "code",
   "execution_count": 13,
   "metadata": {},
   "outputs": [
    {
     "name": "stdout",
     "output_type": "stream",
     "text": [
      "Sudut antara vektor x dan y adalah: nan radian\n",
      "Kedua vektor parallel.\n"
     ]
    },
    {
     "name": "stderr",
     "output_type": "stream",
     "text": [
      "c:\\Users\\RIO BASTIAN\\AppData\\Local\\Programs\\Python\\Python37\\lib\\site-packages\\ipykernel_launcher.py:18: RuntimeWarning: invalid value encountered in arccos\n"
     ]
    }
   ],
   "source": [
    "import numpy as np\n",
    "\n",
    "# Tentukan matriks A\n",
    "A = np.array([[2, 1],[1, 4]])\n",
    "\n",
    "# Tentukan vektor x dan y\n",
    "x = np.array([2, 2])\n",
    "y = np.array([-2, -2])\n",
    "\n",
    "def find_angle(A, x, y):\n",
    "    \"\"\"Compute the angle\"\"\"\n",
    "    inner_prod = x.T @ A @ y\n",
    "    # Hitung nilai norm_x dan norm_y menggunakan np.linalg.norm()\n",
    "    norm_x = np.linalg.norm(x)\n",
    "    norm_y = np.linalg.norm(y)\n",
    "    alpha = inner_prod / (norm_x * norm_y)\n",
    "    angle = np.arccos(alpha)\n",
    "    return np.round(angle, 2)\n",
    "\n",
    "sudut = find_angle(A, x, y)\n",
    "print(\"Sudut antara vektor x dan y adalah:\", sudut, \"radian\")\n",
    "\n",
    "# Cek apakah vektor x dan y parallel atau antiparallel\n",
    "if np.abs(sudut - 0) < 1e-9:\n",
    "    print(\"Kedua vektor saling tegak lurus (orthogonal).\")\n",
    "elif np.abs(sudut - np.pi) < 1e-9:\n",
    "    print(\"Kedua vektor antiparallel.\")\n",
    "else:\n",
    "    print(\"Kedua vektor parallel.\")"
   ]
  },
  {
   "cell_type": "code",
   "execution_count": null,
   "metadata": {},
   "outputs": [],
   "source": []
  }
 ],
 "metadata": {
  "kernelspec": {
   "display_name": "Python 3.7.0 64-bit",
   "language": "python",
   "name": "python3"
  },
  "language_info": {
   "codemirror_mode": {
    "name": "ipython",
    "version": 3
   },
   "file_extension": ".py",
   "mimetype": "text/x-python",
   "name": "python",
   "nbconvert_exporter": "python",
   "pygments_lexer": "ipython3",
   "version": "3.7.0"
  },
  "orig_nbformat": 4,
  "vscode": {
   "interpreter": {
    "hash": "d4f3b6a2a481da716a753d25a28eb6c120ed8e5e5a1bdf483d7f5016fd6841a7"
   }
  }
 },
 "nbformat": 4,
 "nbformat_minor": 2
}
