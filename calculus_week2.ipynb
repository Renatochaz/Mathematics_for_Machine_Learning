{
 "cells": [
  {
   "cell_type": "markdown",
   "metadata": {},
   "source": [
    "Now we are going to extended our ideas for a single variable in week 1 to a broader field, the multivariate case when we work with more than one variable at a time.\n",
    "\n",
    "Let'us start with the concept of \n",
    "# Dependent and independent variables.\n",
    "\n",
    "Think in the speed of a car:\n",
    "\n",
    "We can say that the speed of the car is a function of time, since at each point in time the car will be at a certain speed (like at 12:00 the car is at 103km/h, it is impossible for the car to have two different speeds at the exact time). But we can't say that time is a function of the speed of the car, since it is possible to have the same speed in different points of time. (12:00 is a 103km/h and at 13:00 is again at 103km/h).\n",
    "\n",
    "We say that the speed is a dependent variable, since it depends on time. And time is an independent variable, it doesn't depend on speed.\n",
    "\n",
    "\n",
    "Now that this is out of the way, let's learn to differentiate in a equation with more than one variable, and how this relates to constants.\n",
    "\n",
    "Given the following equation: $m = 2\\pi r^2t_p + 2\\pi rht_p$\n",
    "\n",
    "How we differentiate this function (m) in respect to a certain variable?\n",
    "\n",
    "You simple assume that all other variables are constant, except the one you are differentiating. (Remember the constant rule when differentiating)\n",
    "\n",
    "Let us derivate m in respect to h:\n",
    "\n",
    "$\\frac{\\partial m}{\\partial h} = 2\\pi rt_p$ This happens because since all other variables are constants, the term $2\\pi r^2t_p$ is a constant (for example equals 3) and it derivates to 0 since the variable h isn't attached to this term.\n",
    " \n",
    "\n",
    "Now we are going to apply all together in a \n",
    "\n",
    "# Multivariate total derivative exemple\n",
    "\n",
    "Given the following function:\n",
    "\n",
    "$f(x,y,z) = sin(x)e^{yz^2}$\n",
    "\n",
    "let us start by finding the partial derivatives in respect to each term:\n",
    "\n",
    "$\\frac{\\partial f}{\\partial x} = cos(x)e^{yz^2}$\n",
    "\n",
    "$\\frac{\\partial f}{\\partial y} = $ Remember the chain rule? in this case would be:\n",
    "\n",
    "> $\\frac{\\partial f}{\\partial y} = \\frac{\\partial f}{\\partial u} \\frac{\\partial u}{\\partial y}$ And we call $e^{yz^2} = e^u$, with $u = yz^2$, so our expression reduces to: $sin(x)e^{u}$"
   ]
  },
  {
   "cell_type": "markdown",
   "metadata": {},
   "source": [
    "> so let us find $\\frac{\\partial f}{\\partial u} = sin(x)e^u$ and $\\frac{\\partial u}{\\partial y} = z^2$\n",
    "\n",
    "> Now finding the partial derivative: $\\frac{\\partial f}{\\partial y} = \\frac{\\partial f}{\\partial u} \\frac{\\partial u}{\\partial y} = sin(x)e^uz^2 = sin(x)e^{yz^2}2z^2$"
   ]
  },
  {
   "cell_type": "markdown",
   "metadata": {},
   "source": [
    "$\\frac{\\partial f}{\\partial z} =  sin(x)e^{yz^2}2yz$ (using the same logic as before)"
   ]
  },
  {
   "cell_type": "markdown",
   "metadata": {},
   "source": [
    "Now let's think that each variable (x,y,z) are dependent of another variable: t\n",
    "\n",
    "For instance: $x = t-1$ and $y=t^2$ and $z=1/t$\n",
    "\n",
    "We can use the chain rule to find the total derivative in respect to t:\n",
    "\n",
    "$\\frac{\\partial f(x,y,z)}{\\partial t} = \\frac{\\partial f}{\\partial x}\\frac{\\partial x}{\\partial t} + \\frac{\\partial f}{\\partial y}\\frac{\\partial y}{\\partial t} + \\frac{\\partial f}{\\partial z}\\frac{\\partial z}{\\partial t}$"
   ]
  },
  {
   "cell_type": "markdown",
   "metadata": {},
   "source": [
    "We already have the partial derivatives, we just need to find the derivative of the variable in respect to t:\n",
    "\n",
    "> $\\frac{\\partial x}{\\partial t} = 1$\n",
    "\n",
    "> $\\frac{\\partial y}{\\partial t} = 2t$\n",
    "\n",
    "> $\\frac{\\partial z}{\\partial t} = -1/t^2 = -t^{-2}$\n",
    "\n"
   ]
  },
  {
   "cell_type": "markdown",
   "metadata": {},
   "source": [
    "And finally we just to the multiplication of the chain rule to get:\n",
    "\n",
    "$\\frac{\\partial f(x,y,z)}{\\partial t} = cos(x)e^{yz^2}(1) + sin(x)e^{yz^2}2z^2(2t) + sin(x)e^{yz^2}2yz(-t^{-2})$\n",
    "\n",
    "If we substitute all x, y, and z for their expression in t, we will get a simplified final version of:\n",
    "\n",
    "$\\frac{\\partial f(x,y,z)}{\\partial t} = cos(t-1)e$"
   ]
  },
  {
   "cell_type": "markdown",
   "metadata": {},
   "source": [
    "# Practicing partial differentiation\n",
    "\n",
    "# 2 -\n",
    "\n",
    "Given $f(x,y,z) = x^2y + y^2z + z^2x$, what are $\\frac{\\partial f}{\\partial x}$, $\\frac{\\partial f}{\\partial y}$ and $\\frac{\\partial f}{\\partial z}$ ?"
   ]
  },
  {
   "cell_type": "markdown",
   "metadata": {},
   "source": [
    "> $\\frac{\\partial f}{\\partial x} = 2xy + z^2$ (Note that the term $y^2z$ don't have x in it, so it is a constant and derivates to 0)\n",
    "\n",
    "> $\\frac{\\partial f}{\\partial y} = x^2 + 2yz$\n",
    "\n",
    "> $\\frac{\\partial f}{\\partial z} = y^2 + 2zx$"
   ]
  },
  {
   "cell_type": "markdown",
   "metadata": {},
   "source": [
    "# 3 -\n",
    "\n",
    "Given $f(x,y,z) = e^{2x}\\sin(y)z^2 + \\cos(z)e^xe^y$, what are $\\frac{\\partial f}{\\partial x}$, $\\frac{\\partial f}{\\partial y} $ and $\\frac{\\partial f}{\\partial z}$?"
   ]
  },
  {
   "cell_type": "markdown",
   "metadata": {},
   "source": [
    "$\\frac{\\partial f}{\\partial x}$ for the first partial derivative:\n",
    "\n",
    "> Let us call $f(x,y,z) = g(x,y,z) + h(x,y,z)$ \n",
    "\n",
    "> $\\frac{\\partial f}{\\partial x} = \\frac{\\partial g}{\\partial x} + \\frac{\\partial h}{\\partial x}$\n",
    "\n",
    "> $\\frac{\\partial g}{\\partial x} = \\frac{\\partial g}{\\partial u}\\frac{\\partial u}{\\partial x}$\n",
    "\n",
    "> with $e^{2x} = e^u$ and $u = 2x$ our new expression for g is: $e^{u}\\sin(y)z^2$\n",
    "\n",
    "> $\\frac{\\partial g}{\\partial u} = e^u sin(y)z^2$\n",
    "\n",
    "> $\\frac{\\partial u}{\\partial x} = 2$\n",
    "\n",
    "> $\\frac{\\partial g}{\\partial x} = 2e^u sin(y)z^2 = 2e^{2x} sin(y)z^2$"
   ]
  },
  {
   "cell_type": "markdown",
   "metadata": {},
   "source": [
    "> now for h:\n",
    "\n",
    "> $\\frac{\\partial h}{\\partial x} = cos(z)e^xe^y$\n",
    "\n",
    "> and finally:\n",
    "\n",
    "> $\\frac{\\partial f}{\\partial x} = \\frac{\\partial g}{\\partial x} + \\frac{\\partial h}{\\partial x} = 2e^{2x} sin(y)z^2 + cos(z)e^xe^y$"
   ]
  },
  {
   "cell_type": "markdown",
   "metadata": {},
   "source": [
    "$\\frac{\\partial f}{\\partial y} = e^{2x}\\cos(y)z^2 + \\cos(z)e^xe^y$ \n",
    "\n",
    "$\\frac{\\partial f}{\\partial z} = 2e^{2x}\\cos(y)z - \\sin(z)e^xe^y$ "
   ]
  },
  {
   "cell_type": "markdown",
   "metadata": {},
   "source": [
    "# Jacobian\n",
    "\n",
    "The jacobian is simple a vector containing the partial derivatives of a given function.\n",
    "\n",
    "If we have a function: $f(x,y) = xy$, our partial derivatives would be: $y$ and $x$, so our jacobian would be the vector:\n",
    "> $J = (y,x)$\n",
    "\n",
    "This is a vector that will point in the direction of the steepest slope of the function when given some coordinate.\n",
    "\n",
    "This means that when we calculate a jacobian with a random x and y, it will point to the points of maximas and minimas of the function. BUT be careful, a given function can have multiple points of maxima/minima!"
   ]
  },
  {
   "cell_type": "markdown",
   "metadata": {},
   "source": [
    "# practice - calculating the jacobian\n",
    "\n",
    "# 1 -\n",
    "\n",
    "For $f(x,y) = x^2y + \\frac{3}{4}xy + 10$, calculate the Jacobian row vector J.\n",
    "\n",
    ">$\\frac{\\partial f}{\\partial x} = 2xy + \\frac{3}{4}y$\n",
    "\n",
    ">$\\frac{\\partial f}{\\partial y} = x^2 + \\frac{3}{4}x$\n",
    "\n",
    "> $J = [xy + \\frac{3}{4}y,x^2 + \\frac{3}{4}x]$"
   ]
  },
  {
   "cell_type": "markdown",
   "metadata": {},
   "source": [
    "# 4 -\n",
    "For $f(x,y,z) = x^2 + 3e^ye^z + cos(x)sin(z)$,calculate the the Jacobian row vector and evaluate at the point (0, 0, 0)."
   ]
  },
  {
   "cell_type": "markdown",
   "metadata": {},
   "source": [
    ">$\\frac{\\partial f}{\\partial x} = 2x - sin(x)sin(z)$\n",
    "\n",
    ">$\\frac{\\partial f}{\\partial y} = 3e^ye^z$\n",
    "\n",
    ">$\\frac{\\partial f}{\\partial z} = 3e^ye^z + cos(x)cos(z)$\n",
    "\n",
    "$J = [2x - sin(x)sin(z),3e^ye^z,3e^ye^z + cos(x)cos(z)]$\n",
    "\n",
    "At point (0,0,0) \n",
    "\n",
    "$J = [2.0 - sin(0)sin(0),3e^0e^0,3e^0e^0 + cos(0)cos(0)] = [0,3.1.1,3.1.1 + 1.1] = [0,3,4]$"
   ]
  },
  {
   "cell_type": "markdown",
   "metadata": {},
   "source": [
    "# Hessian\n",
    "\n",
    "The hessian is a extension of the jacobian. In the hessian we will make a matrix (not a vector) with the second order derivatives.\n",
    "\n",
    "To calculate the secord order derivative, we first calculate the first derivative, then calculate the derivative of this first derivative.\n",
    "\n",
    "The notation is as follows:\n",
    "\n",
    "$\\frac{\\partial f}{\\partial x}$ first order derivative of f in relation to x\n",
    "$\\frac{\\partial^2 f}{\\partial x}$ second order derivative of f in relation to x\n",
    "\n",
    "So the hessian matrix will have the following form:\n",
    "\n",
    "$ H = \\begin{bmatrix} \\frac{\\partial^2 f}{\\partial x_1^2} & \\frac{\\partial^2 f}{\\partial x_1x_2} & ... & \\frac{\\partial^2 f}{\\partial x_1x_n} \\\\ \\frac{\\partial^2 f}{\\partial x_2x_1} & \\frac{\\partial^2 f}{\\partial x_2^2} & ... & \\frac{\\partial^2 f}{\\partial x_2x_n} \\\\ . & . & ... & . \\\\ \\frac{\\partial^2 f}{\\partial x_nx_1} & \\frac{\\partial^2 f}{\\partial x_nx_2} & ... & \\frac{\\partial^2 f}{\\partial x_n^2} \\end{bmatrix}$\n",
    "\n",
    "Quick example\n",
    "\n",
    ">$f(x,y,z) = x^2yz$\n",
    "\n",
    "> $ J = [2xyz,x^2z,x^2y]$ (first order derivatives)\n",
    "\n",
    "> $H = \\begin{bmatrix} 2yz & 2xz & 2xy \\\\ 2xz & 0 & x^2 \\\\ 2xy & x^2 & 0 \\end{bmatrix}$\n",
    "\n",
    "* Note that the hessian is simmetryc\n"
   ]
  },
  {
   "cell_type": "markdown",
   "metadata": {},
   "source": [
    "The hessian gives us information if our jacobian is dealling with a maxima or a minima (or neither!)\n",
    "\n",
    "If the determinant of the Hessian is positive: Our jacobian is pointing towards a maxima or a minima.\n",
    "\n",
    "- If the first term of the hessian is positive: we are pointing towards a minima, and if is negative it is a maxima\n",
    "\n",
    "If the determinant is negative we are dealing with a saddle point (this can confuse the search of the maxima/minima points!)\n"
   ]
  },
  {
   "cell_type": "markdown",
   "metadata": {},
   "source": [
    "# Practice hessians\n",
    "\n",
    "# 1 -\n",
    "\n",
    "For the function $f(x,y) = x^3y + x + 2y$, calculate the Hessian matrix $H = \\begin{bmatrix} \\partial_{x,x}f & \\partial_{x,y}f \\\\ \\partial_{y,x}f & \\partial_{y,y}f \\end{bmatrix}$"
   ]
  },
  {
   "cell_type": "markdown",
   "metadata": {},
   "source": [
    "> $\\partial_{x}f = 3x^2y+1$\n",
    "\n",
    ">> $\\partial_{x,x}f = 6xy$\n",
    "\n",
    ">> $\\partial_{x,y}f = 3x^2$\n",
    "\n",
    "> $\\partial_{y}f = x^3+2$\n",
    "\n",
    ">> $\\partial_{y,x}f = 3x^2$\n",
    "\n",
    ">> $\\partial_{y,y}f = 0$"
   ]
  },
  {
   "cell_type": "markdown",
   "metadata": {},
   "source": []
  }
 ],
 "metadata": {
  "kernelspec": {
   "display_name": "Python 3",
   "language": "python",
   "name": "python3"
  },
  "language_info": {
   "codemirror_mode": {
    "name": "ipython",
    "version": 3
   },
   "file_extension": ".py",
   "mimetype": "text/x-python",
   "name": "python",
   "nbconvert_exporter": "python",
   "pygments_lexer": "ipython3",
   "version": "3.7.4"
  }
 },
 "nbformat": 4,
 "nbformat_minor": 4
}
